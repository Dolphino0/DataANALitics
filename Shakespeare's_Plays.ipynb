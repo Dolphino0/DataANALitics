{
  "nbformat": 4,
  "nbformat_minor": 0,
  "metadata": {
    "colab": {
      "provenance": [],
      "gpuType": "T4"
    },
    "kernelspec": {
      "name": "python3",
      "display_name": "Python 3"
    },
    "language_info": {
      "name": "python"
    },
    "accelerator": "GPU"
  },
  "cells": [
    {
      "cell_type": "markdown",
      "source": [
        "**Задача:** классификация текстов Шекспира по жанрам"
      ],
      "metadata": {
        "id": "1kPNWbYKNBGV"
      }
    },
    {
      "cell_type": "markdown",
      "source": [
        "# Загрузка библиотек"
      ],
      "metadata": {
        "id": "fpZ9Gq5qNRR6"
      }
    },
    {
      "cell_type": "code",
      "execution_count": null,
      "metadata": {
        "id": "merAL9rKPb3b"
      },
      "outputs": [],
      "source": [
        "import pandas as pd\n",
        "import numpy as np\n",
        "import matplotlib.pyplot as plt\n",
        "from sklearn.model_selection import train_test_split\n",
        "from sklearn.feature_extraction.text import CountVectorizer, TfidfVectorizer\n",
        "import torch\n",
        "import torch.nn as nn\n",
        "import torch.optim as optim\n",
        "from torch.utils.data import DataLoader, TensorDataset\n",
        "import gensim.downloader as downloader # Для скачивания предобученного word2vec"
      ]
    },
    {
      "cell_type": "code",
      "source": [
        "import nltk # Библиотека для работы с текстовыми данными\n",
        "from nltk import pos_tag # Функция, определяющая часть речи слова\n",
        "from nltk.corpus import stopwords # Стоп-слова, который нужно удалить из текста\n",
        "from nltk.tokenize import word_tokenize # Токенизатор, разделяющий текст на отдельные слова\n",
        "from nltk.stem import WordNetLemmatizer # Лемматизатор - объект, приводящий слово к начальной форме\n",
        "\n",
        "nltk.download('wordnet') # Загрузка базы данных английских слов, частей речи и т.п. для работы лемматизатора, токенизатора и т.п.\n",
        "nltk.download('stopwords') # Загрузка набора стоп слов\n",
        "nltk.download('punkt') # Загрузка данных для токенизатора\n",
        "nltk.download('averaged_perceptron_tagger') # Инструмент для маркировки частей речи"
      ],
      "metadata": {
        "colab": {
          "base_uri": "https://localhost:8080/"
        },
        "id": "hNPQLgFSA7aa",
        "outputId": "db129350-3d32-4ed5-9444-c05de1742a47"
      },
      "execution_count": null,
      "outputs": [
        {
          "output_type": "stream",
          "name": "stderr",
          "text": [
            "[nltk_data] Downloading package wordnet to /root/nltk_data...\n",
            "[nltk_data] Downloading package stopwords to /root/nltk_data...\n",
            "[nltk_data]   Unzipping corpora/stopwords.zip.\n",
            "[nltk_data] Downloading package punkt to /root/nltk_data...\n",
            "[nltk_data]   Unzipping tokenizers/punkt.zip.\n",
            "[nltk_data] Downloading package averaged_perceptron_tagger to\n",
            "[nltk_data]     /root/nltk_data...\n",
            "[nltk_data]   Unzipping taggers/averaged_perceptron_tagger.zip.\n"
          ]
        },
        {
          "output_type": "execute_result",
          "data": {
            "text/plain": [
              "True"
            ]
          },
          "metadata": {},
          "execution_count": 2
        }
      ]
    },
    {
      "cell_type": "markdown",
      "source": [
        "# Загрузка данных"
      ],
      "metadata": {
        "id": "537XcijhPlbZ"
      }
    },
    {
      "cell_type": "code",
      "source": [
        "data = pd.read_csv(\"shakespeare_plays.csv\")\n",
        "data"
      ],
      "metadata": {
        "colab": {
          "base_uri": "https://localhost:8080/",
          "height": 562
        },
        "id": "jnpL8BP6R2tB",
        "outputId": "36be8fef-1586-481e-bed4-0232eb0cc825"
      },
      "execution_count": null,
      "outputs": [
        {
          "output_type": "execute_result",
          "data": {
            "text/plain": [
              "        Unnamed: 0                  play_name    genre character  act  scene  \\\n",
              "0                0  All's Well That Ends Well   Comedy  Countess    1      1   \n",
              "1                1  All's Well That Ends Well   Comedy   Bertram    1      1   \n",
              "2                2  All's Well That Ends Well   Comedy   Bertram    1      1   \n",
              "3                3  All's Well That Ends Well   Comedy   Bertram    1      1   \n",
              "4                4  All's Well That Ends Well   Comedy     Lafeu    1      1   \n",
              "...            ...                        ...      ...       ...  ...    ...   \n",
              "108088      108088           Titus Andronicus  Tragedy    Lucius    5      3   \n",
              "108089      108089           Titus Andronicus  Tragedy    Lucius    5      3   \n",
              "108090      108090           Titus Andronicus  Tragedy    Lucius    5      3   \n",
              "108091      108091           Titus Andronicus  Tragedy    Lucius    5      3   \n",
              "108092      108092           Titus Andronicus  Tragedy    Lucius    5      3   \n",
              "\n",
              "        sentence                                               text     sex  \n",
              "0              1  In delivering my son from me, I bury a second ...  female  \n",
              "1              2  And I in going, madam, weep o'er my father's d...    male  \n",
              "2              3  anew: but I must attend his majesty's command, to    male  \n",
              "3              4     whom I am now in ward, evermore in subjection.    male  \n",
              "4              5  You shall find of the king a husband, madam; you,    male  \n",
              "...          ...                                                ...     ...  \n",
              "108088       201       And, being so, shall have like want of pity.    male  \n",
              "108089       202       See justice done on Aaron, that damn'd Moor,    male  \n",
              "108090       203        By whom our heavy haps had their beginning:    male  \n",
              "108091       204         Then, afterwards, to order well the state,    male  \n",
              "108092       205             That like events may ne'er it ruinate.    male  \n",
              "\n",
              "[108093 rows x 9 columns]"
            ],
            "text/html": [
              "\n",
              "  <div id=\"df-0ee94cc7-ce83-4d65-b4d9-d2a4cb514542\" class=\"colab-df-container\">\n",
              "    <div>\n",
              "<style scoped>\n",
              "    .dataframe tbody tr th:only-of-type {\n",
              "        vertical-align: middle;\n",
              "    }\n",
              "\n",
              "    .dataframe tbody tr th {\n",
              "        vertical-align: top;\n",
              "    }\n",
              "\n",
              "    .dataframe thead th {\n",
              "        text-align: right;\n",
              "    }\n",
              "</style>\n",
              "<table border=\"1\" class=\"dataframe\">\n",
              "  <thead>\n",
              "    <tr style=\"text-align: right;\">\n",
              "      <th></th>\n",
              "      <th>Unnamed: 0</th>\n",
              "      <th>play_name</th>\n",
              "      <th>genre</th>\n",
              "      <th>character</th>\n",
              "      <th>act</th>\n",
              "      <th>scene</th>\n",
              "      <th>sentence</th>\n",
              "      <th>text</th>\n",
              "      <th>sex</th>\n",
              "    </tr>\n",
              "  </thead>\n",
              "  <tbody>\n",
              "    <tr>\n",
              "      <th>0</th>\n",
              "      <td>0</td>\n",
              "      <td>All's Well That Ends Well</td>\n",
              "      <td>Comedy</td>\n",
              "      <td>Countess</td>\n",
              "      <td>1</td>\n",
              "      <td>1</td>\n",
              "      <td>1</td>\n",
              "      <td>In delivering my son from me, I bury a second ...</td>\n",
              "      <td>female</td>\n",
              "    </tr>\n",
              "    <tr>\n",
              "      <th>1</th>\n",
              "      <td>1</td>\n",
              "      <td>All's Well That Ends Well</td>\n",
              "      <td>Comedy</td>\n",
              "      <td>Bertram</td>\n",
              "      <td>1</td>\n",
              "      <td>1</td>\n",
              "      <td>2</td>\n",
              "      <td>And I in going, madam, weep o'er my father's d...</td>\n",
              "      <td>male</td>\n",
              "    </tr>\n",
              "    <tr>\n",
              "      <th>2</th>\n",
              "      <td>2</td>\n",
              "      <td>All's Well That Ends Well</td>\n",
              "      <td>Comedy</td>\n",
              "      <td>Bertram</td>\n",
              "      <td>1</td>\n",
              "      <td>1</td>\n",
              "      <td>3</td>\n",
              "      <td>anew: but I must attend his majesty's command, to</td>\n",
              "      <td>male</td>\n",
              "    </tr>\n",
              "    <tr>\n",
              "      <th>3</th>\n",
              "      <td>3</td>\n",
              "      <td>All's Well That Ends Well</td>\n",
              "      <td>Comedy</td>\n",
              "      <td>Bertram</td>\n",
              "      <td>1</td>\n",
              "      <td>1</td>\n",
              "      <td>4</td>\n",
              "      <td>whom I am now in ward, evermore in subjection.</td>\n",
              "      <td>male</td>\n",
              "    </tr>\n",
              "    <tr>\n",
              "      <th>4</th>\n",
              "      <td>4</td>\n",
              "      <td>All's Well That Ends Well</td>\n",
              "      <td>Comedy</td>\n",
              "      <td>Lafeu</td>\n",
              "      <td>1</td>\n",
              "      <td>1</td>\n",
              "      <td>5</td>\n",
              "      <td>You shall find of the king a husband, madam; you,</td>\n",
              "      <td>male</td>\n",
              "    </tr>\n",
              "    <tr>\n",
              "      <th>...</th>\n",
              "      <td>...</td>\n",
              "      <td>...</td>\n",
              "      <td>...</td>\n",
              "      <td>...</td>\n",
              "      <td>...</td>\n",
              "      <td>...</td>\n",
              "      <td>...</td>\n",
              "      <td>...</td>\n",
              "      <td>...</td>\n",
              "    </tr>\n",
              "    <tr>\n",
              "      <th>108088</th>\n",
              "      <td>108088</td>\n",
              "      <td>Titus Andronicus</td>\n",
              "      <td>Tragedy</td>\n",
              "      <td>Lucius</td>\n",
              "      <td>5</td>\n",
              "      <td>3</td>\n",
              "      <td>201</td>\n",
              "      <td>And, being so, shall have like want of pity.</td>\n",
              "      <td>male</td>\n",
              "    </tr>\n",
              "    <tr>\n",
              "      <th>108089</th>\n",
              "      <td>108089</td>\n",
              "      <td>Titus Andronicus</td>\n",
              "      <td>Tragedy</td>\n",
              "      <td>Lucius</td>\n",
              "      <td>5</td>\n",
              "      <td>3</td>\n",
              "      <td>202</td>\n",
              "      <td>See justice done on Aaron, that damn'd Moor,</td>\n",
              "      <td>male</td>\n",
              "    </tr>\n",
              "    <tr>\n",
              "      <th>108090</th>\n",
              "      <td>108090</td>\n",
              "      <td>Titus Andronicus</td>\n",
              "      <td>Tragedy</td>\n",
              "      <td>Lucius</td>\n",
              "      <td>5</td>\n",
              "      <td>3</td>\n",
              "      <td>203</td>\n",
              "      <td>By whom our heavy haps had their beginning:</td>\n",
              "      <td>male</td>\n",
              "    </tr>\n",
              "    <tr>\n",
              "      <th>108091</th>\n",
              "      <td>108091</td>\n",
              "      <td>Titus Andronicus</td>\n",
              "      <td>Tragedy</td>\n",
              "      <td>Lucius</td>\n",
              "      <td>5</td>\n",
              "      <td>3</td>\n",
              "      <td>204</td>\n",
              "      <td>Then, afterwards, to order well the state,</td>\n",
              "      <td>male</td>\n",
              "    </tr>\n",
              "    <tr>\n",
              "      <th>108092</th>\n",
              "      <td>108092</td>\n",
              "      <td>Titus Andronicus</td>\n",
              "      <td>Tragedy</td>\n",
              "      <td>Lucius</td>\n",
              "      <td>5</td>\n",
              "      <td>3</td>\n",
              "      <td>205</td>\n",
              "      <td>That like events may ne'er it ruinate.</td>\n",
              "      <td>male</td>\n",
              "    </tr>\n",
              "  </tbody>\n",
              "</table>\n",
              "<p>108093 rows × 9 columns</p>\n",
              "</div>\n",
              "    <div class=\"colab-df-buttons\">\n",
              "\n",
              "  <div class=\"colab-df-container\">\n",
              "    <button class=\"colab-df-convert\" onclick=\"convertToInteractive('df-0ee94cc7-ce83-4d65-b4d9-d2a4cb514542')\"\n",
              "            title=\"Convert this dataframe to an interactive table.\"\n",
              "            style=\"display:none;\">\n",
              "\n",
              "  <svg xmlns=\"http://www.w3.org/2000/svg\" height=\"24px\" viewBox=\"0 -960 960 960\">\n",
              "    <path d=\"M120-120v-720h720v720H120Zm60-500h600v-160H180v160Zm220 220h160v-160H400v160Zm0 220h160v-160H400v160ZM180-400h160v-160H180v160Zm440 0h160v-160H620v160ZM180-180h160v-160H180v160Zm440 0h160v-160H620v160Z\"/>\n",
              "  </svg>\n",
              "    </button>\n",
              "\n",
              "  <style>\n",
              "    .colab-df-container {\n",
              "      display:flex;\n",
              "      gap: 12px;\n",
              "    }\n",
              "\n",
              "    .colab-df-convert {\n",
              "      background-color: #E8F0FE;\n",
              "      border: none;\n",
              "      border-radius: 50%;\n",
              "      cursor: pointer;\n",
              "      display: none;\n",
              "      fill: #1967D2;\n",
              "      height: 32px;\n",
              "      padding: 0 0 0 0;\n",
              "      width: 32px;\n",
              "    }\n",
              "\n",
              "    .colab-df-convert:hover {\n",
              "      background-color: #E2EBFA;\n",
              "      box-shadow: 0px 1px 2px rgba(60, 64, 67, 0.3), 0px 1px 3px 1px rgba(60, 64, 67, 0.15);\n",
              "      fill: #174EA6;\n",
              "    }\n",
              "\n",
              "    .colab-df-buttons div {\n",
              "      margin-bottom: 4px;\n",
              "    }\n",
              "\n",
              "    [theme=dark] .colab-df-convert {\n",
              "      background-color: #3B4455;\n",
              "      fill: #D2E3FC;\n",
              "    }\n",
              "\n",
              "    [theme=dark] .colab-df-convert:hover {\n",
              "      background-color: #434B5C;\n",
              "      box-shadow: 0px 1px 3px 1px rgba(0, 0, 0, 0.15);\n",
              "      filter: drop-shadow(0px 1px 2px rgba(0, 0, 0, 0.3));\n",
              "      fill: #FFFFFF;\n",
              "    }\n",
              "  </style>\n",
              "\n",
              "    <script>\n",
              "      const buttonEl =\n",
              "        document.querySelector('#df-0ee94cc7-ce83-4d65-b4d9-d2a4cb514542 button.colab-df-convert');\n",
              "      buttonEl.style.display =\n",
              "        google.colab.kernel.accessAllowed ? 'block' : 'none';\n",
              "\n",
              "      async function convertToInteractive(key) {\n",
              "        const element = document.querySelector('#df-0ee94cc7-ce83-4d65-b4d9-d2a4cb514542');\n",
              "        const dataTable =\n",
              "          await google.colab.kernel.invokeFunction('convertToInteractive',\n",
              "                                                    [key], {});\n",
              "        if (!dataTable) return;\n",
              "\n",
              "        const docLinkHtml = 'Like what you see? Visit the ' +\n",
              "          '<a target=\"_blank\" href=https://colab.research.google.com/notebooks/data_table.ipynb>data table notebook</a>'\n",
              "          + ' to learn more about interactive tables.';\n",
              "        element.innerHTML = '';\n",
              "        dataTable['output_type'] = 'display_data';\n",
              "        await google.colab.output.renderOutput(dataTable, element);\n",
              "        const docLink = document.createElement('div');\n",
              "        docLink.innerHTML = docLinkHtml;\n",
              "        element.appendChild(docLink);\n",
              "      }\n",
              "    </script>\n",
              "  </div>\n",
              "\n",
              "\n",
              "<div id=\"df-ca80ed6f-6c15-481d-9709-b5cc912f76b5\">\n",
              "  <button class=\"colab-df-quickchart\" onclick=\"quickchart('df-ca80ed6f-6c15-481d-9709-b5cc912f76b5')\"\n",
              "            title=\"Suggest charts\"\n",
              "            style=\"display:none;\">\n",
              "\n",
              "<svg xmlns=\"http://www.w3.org/2000/svg\" height=\"24px\"viewBox=\"0 0 24 24\"\n",
              "     width=\"24px\">\n",
              "    <g>\n",
              "        <path d=\"M19 3H5c-1.1 0-2 .9-2 2v14c0 1.1.9 2 2 2h14c1.1 0 2-.9 2-2V5c0-1.1-.9-2-2-2zM9 17H7v-7h2v7zm4 0h-2V7h2v10zm4 0h-2v-4h2v4z\"/>\n",
              "    </g>\n",
              "</svg>\n",
              "  </button>\n",
              "\n",
              "<style>\n",
              "  .colab-df-quickchart {\n",
              "      --bg-color: #E8F0FE;\n",
              "      --fill-color: #1967D2;\n",
              "      --hover-bg-color: #E2EBFA;\n",
              "      --hover-fill-color: #174EA6;\n",
              "      --disabled-fill-color: #AAA;\n",
              "      --disabled-bg-color: #DDD;\n",
              "  }\n",
              "\n",
              "  [theme=dark] .colab-df-quickchart {\n",
              "      --bg-color: #3B4455;\n",
              "      --fill-color: #D2E3FC;\n",
              "      --hover-bg-color: #434B5C;\n",
              "      --hover-fill-color: #FFFFFF;\n",
              "      --disabled-bg-color: #3B4455;\n",
              "      --disabled-fill-color: #666;\n",
              "  }\n",
              "\n",
              "  .colab-df-quickchart {\n",
              "    background-color: var(--bg-color);\n",
              "    border: none;\n",
              "    border-radius: 50%;\n",
              "    cursor: pointer;\n",
              "    display: none;\n",
              "    fill: var(--fill-color);\n",
              "    height: 32px;\n",
              "    padding: 0;\n",
              "    width: 32px;\n",
              "  }\n",
              "\n",
              "  .colab-df-quickchart:hover {\n",
              "    background-color: var(--hover-bg-color);\n",
              "    box-shadow: 0 1px 2px rgba(60, 64, 67, 0.3), 0 1px 3px 1px rgba(60, 64, 67, 0.15);\n",
              "    fill: var(--button-hover-fill-color);\n",
              "  }\n",
              "\n",
              "  .colab-df-quickchart-complete:disabled,\n",
              "  .colab-df-quickchart-complete:disabled:hover {\n",
              "    background-color: var(--disabled-bg-color);\n",
              "    fill: var(--disabled-fill-color);\n",
              "    box-shadow: none;\n",
              "  }\n",
              "\n",
              "  .colab-df-spinner {\n",
              "    border: 2px solid var(--fill-color);\n",
              "    border-color: transparent;\n",
              "    border-bottom-color: var(--fill-color);\n",
              "    animation:\n",
              "      spin 1s steps(1) infinite;\n",
              "  }\n",
              "\n",
              "  @keyframes spin {\n",
              "    0% {\n",
              "      border-color: transparent;\n",
              "      border-bottom-color: var(--fill-color);\n",
              "      border-left-color: var(--fill-color);\n",
              "    }\n",
              "    20% {\n",
              "      border-color: transparent;\n",
              "      border-left-color: var(--fill-color);\n",
              "      border-top-color: var(--fill-color);\n",
              "    }\n",
              "    30% {\n",
              "      border-color: transparent;\n",
              "      border-left-color: var(--fill-color);\n",
              "      border-top-color: var(--fill-color);\n",
              "      border-right-color: var(--fill-color);\n",
              "    }\n",
              "    40% {\n",
              "      border-color: transparent;\n",
              "      border-right-color: var(--fill-color);\n",
              "      border-top-color: var(--fill-color);\n",
              "    }\n",
              "    60% {\n",
              "      border-color: transparent;\n",
              "      border-right-color: var(--fill-color);\n",
              "    }\n",
              "    80% {\n",
              "      border-color: transparent;\n",
              "      border-right-color: var(--fill-color);\n",
              "      border-bottom-color: var(--fill-color);\n",
              "    }\n",
              "    90% {\n",
              "      border-color: transparent;\n",
              "      border-bottom-color: var(--fill-color);\n",
              "    }\n",
              "  }\n",
              "</style>\n",
              "\n",
              "  <script>\n",
              "    async function quickchart(key) {\n",
              "      const quickchartButtonEl =\n",
              "        document.querySelector('#' + key + ' button');\n",
              "      quickchartButtonEl.disabled = true;  // To prevent multiple clicks.\n",
              "      quickchartButtonEl.classList.add('colab-df-spinner');\n",
              "      try {\n",
              "        const charts = await google.colab.kernel.invokeFunction(\n",
              "            'suggestCharts', [key], {});\n",
              "      } catch (error) {\n",
              "        console.error('Error during call to suggestCharts:', error);\n",
              "      }\n",
              "      quickchartButtonEl.classList.remove('colab-df-spinner');\n",
              "      quickchartButtonEl.classList.add('colab-df-quickchart-complete');\n",
              "    }\n",
              "    (() => {\n",
              "      let quickchartButtonEl =\n",
              "        document.querySelector('#df-ca80ed6f-6c15-481d-9709-b5cc912f76b5 button');\n",
              "      quickchartButtonEl.style.display =\n",
              "        google.colab.kernel.accessAllowed ? 'block' : 'none';\n",
              "    })();\n",
              "  </script>\n",
              "</div>\n",
              "    </div>\n",
              "  </div>\n"
            ],
            "application/vnd.google.colaboratory.intrinsic+json": {
              "type": "dataframe",
              "variable_name": "data"
            }
          },
          "metadata": {},
          "execution_count": 3
        }
      ]
    },
    {
      "cell_type": "markdown",
      "source": [
        "# Предобработка данных"
      ],
      "metadata": {
        "id": "KOcUEOa1Puz_"
      }
    },
    {
      "cell_type": "markdown",
      "source": [
        "Удалим все столбцы кроме необходимых для классификации и подготовки данных"
      ],
      "metadata": {
        "id": "15OJ7Q5UPyAb"
      }
    },
    {
      "cell_type": "code",
      "source": [
        "data = data[['play_name', 'genre', 'act', 'scene', 'text']]"
      ],
      "metadata": {
        "id": "bYR1N2kDSdxt"
      },
      "execution_count": null,
      "outputs": []
    },
    {
      "cell_type": "markdown",
      "source": [
        "Проверка на наличие пропусков"
      ],
      "metadata": {
        "id": "Qof6kiS9P9fl"
      }
    },
    {
      "cell_type": "code",
      "source": [
        "data.info()"
      ],
      "metadata": {
        "colab": {
          "base_uri": "https://localhost:8080/"
        },
        "id": "FIf_XMy69O8T",
        "outputId": "3bf519e5-e2e9-4b00-ad76-819a5fc2c5cd"
      },
      "execution_count": null,
      "outputs": [
        {
          "output_type": "stream",
          "name": "stdout",
          "text": [
            "<class 'pandas.core.frame.DataFrame'>\n",
            "RangeIndex: 108093 entries, 0 to 108092\n",
            "Data columns (total 5 columns):\n",
            " #   Column     Non-Null Count   Dtype \n",
            "---  ------     --------------   ----- \n",
            " 0   play_name  108093 non-null  object\n",
            " 1   genre      108093 non-null  object\n",
            " 2   act        108093 non-null  int64 \n",
            " 3   scene      108093 non-null  int64 \n",
            " 4   text       108093 non-null  object\n",
            "dtypes: int64(2), object(3)\n",
            "memory usage: 4.1+ MB\n"
          ]
        }
      ]
    },
    {
      "cell_type": "markdown",
      "source": [
        "Данные устроены следующим образом: пьеса состоит из актов, акты из сцен, сцена из предложений. У каждой пьесы только один жанр.\n",
        "\n",
        "Классифицировать будем не предложения, а сцены, для сохранения большего контекста.\n",
        "\n",
        "Сгруппируем данные: все предложения в рамках каждой сцены соберём в одно, сопоставиви каждой сцены жанр пьесы, из которой она взята"
      ],
      "metadata": {
        "id": "pdRJJbmiQBhc"
      }
    },
    {
      "cell_type": "code",
      "source": [
        "scenes = data.groupby(['play_name', 'act', 'scene']).agg({\n",
        "    'text': lambda x: ' '.join(x),\n",
        "    'genre': 'first'\n",
        "}).reset_index()\n"
      ],
      "metadata": {
        "id": "l7m5vI-Y9EcO"
      },
      "execution_count": null,
      "outputs": []
    },
    {
      "cell_type": "code",
      "source": [
        "scenes"
      ],
      "metadata": {
        "colab": {
          "base_uri": "https://localhost:8080/",
          "height": 423
        },
        "id": "QJcwFT68-Qzu",
        "outputId": "7e133620-f945-4364-d12b-787b495a19d9"
      },
      "execution_count": null,
      "outputs": [
        {
          "output_type": "execute_result",
          "data": {
            "text/plain": [
              "                     play_name  act  scene  \\\n",
              "0    A Midsummer Night's Dream    1      1   \n",
              "1    A Midsummer Night's Dream    1      2   \n",
              "2    A Midsummer Night's Dream    2      1   \n",
              "3    A Midsummer Night's Dream    2      2   \n",
              "4    A Midsummer Night's Dream    3      1   \n",
              "..                         ...  ...    ...   \n",
              "748              Winter's Tale    4      3   \n",
              "749              Winter's Tale    4      4   \n",
              "750              Winter's Tale    5      1   \n",
              "751              Winter's Tale    5      2   \n",
              "752              Winter's Tale    5      3   \n",
              "\n",
              "                                                  text   genre  \n",
              "0    Now, fair Hippolyta, our nuptial hour Draws on...  Comedy  \n",
              "1    Is all our company here? You were best to call...  Comedy  \n",
              "2    How now, spirit! whither wander you? Over hill...  Comedy  \n",
              "3    Come, now a roundel and a fairy song; Then, fo...  Comedy  \n",
              "4    Are we all met? Pat, pat; and here's a marvell...  Comedy  \n",
              "..                                                 ...     ...  \n",
              "748  I, that please some, try all, both joy and ter...  Comedy  \n",
              "749  These your unusual weeds to each part of you D...  Comedy  \n",
              "750  Sir, you have done enough, and have perform'd ...  Comedy  \n",
              "751  Beseech you, sir, were you present at this rel...  Comedy  \n",
              "752  O grave and good Paulina, the great comfort Th...  Comedy  \n",
              "\n",
              "[753 rows x 5 columns]"
            ],
            "text/html": [
              "\n",
              "  <div id=\"df-2948fbc6-213e-45c5-bf47-3449ad334dc9\" class=\"colab-df-container\">\n",
              "    <div>\n",
              "<style scoped>\n",
              "    .dataframe tbody tr th:only-of-type {\n",
              "        vertical-align: middle;\n",
              "    }\n",
              "\n",
              "    .dataframe tbody tr th {\n",
              "        vertical-align: top;\n",
              "    }\n",
              "\n",
              "    .dataframe thead th {\n",
              "        text-align: right;\n",
              "    }\n",
              "</style>\n",
              "<table border=\"1\" class=\"dataframe\">\n",
              "  <thead>\n",
              "    <tr style=\"text-align: right;\">\n",
              "      <th></th>\n",
              "      <th>play_name</th>\n",
              "      <th>act</th>\n",
              "      <th>scene</th>\n",
              "      <th>text</th>\n",
              "      <th>genre</th>\n",
              "    </tr>\n",
              "  </thead>\n",
              "  <tbody>\n",
              "    <tr>\n",
              "      <th>0</th>\n",
              "      <td>A Midsummer Night's Dream</td>\n",
              "      <td>1</td>\n",
              "      <td>1</td>\n",
              "      <td>Now, fair Hippolyta, our nuptial hour Draws on...</td>\n",
              "      <td>Comedy</td>\n",
              "    </tr>\n",
              "    <tr>\n",
              "      <th>1</th>\n",
              "      <td>A Midsummer Night's Dream</td>\n",
              "      <td>1</td>\n",
              "      <td>2</td>\n",
              "      <td>Is all our company here? You were best to call...</td>\n",
              "      <td>Comedy</td>\n",
              "    </tr>\n",
              "    <tr>\n",
              "      <th>2</th>\n",
              "      <td>A Midsummer Night's Dream</td>\n",
              "      <td>2</td>\n",
              "      <td>1</td>\n",
              "      <td>How now, spirit! whither wander you? Over hill...</td>\n",
              "      <td>Comedy</td>\n",
              "    </tr>\n",
              "    <tr>\n",
              "      <th>3</th>\n",
              "      <td>A Midsummer Night's Dream</td>\n",
              "      <td>2</td>\n",
              "      <td>2</td>\n",
              "      <td>Come, now a roundel and a fairy song; Then, fo...</td>\n",
              "      <td>Comedy</td>\n",
              "    </tr>\n",
              "    <tr>\n",
              "      <th>4</th>\n",
              "      <td>A Midsummer Night's Dream</td>\n",
              "      <td>3</td>\n",
              "      <td>1</td>\n",
              "      <td>Are we all met? Pat, pat; and here's a marvell...</td>\n",
              "      <td>Comedy</td>\n",
              "    </tr>\n",
              "    <tr>\n",
              "      <th>...</th>\n",
              "      <td>...</td>\n",
              "      <td>...</td>\n",
              "      <td>...</td>\n",
              "      <td>...</td>\n",
              "      <td>...</td>\n",
              "    </tr>\n",
              "    <tr>\n",
              "      <th>748</th>\n",
              "      <td>Winter's Tale</td>\n",
              "      <td>4</td>\n",
              "      <td>3</td>\n",
              "      <td>I, that please some, try all, both joy and ter...</td>\n",
              "      <td>Comedy</td>\n",
              "    </tr>\n",
              "    <tr>\n",
              "      <th>749</th>\n",
              "      <td>Winter's Tale</td>\n",
              "      <td>4</td>\n",
              "      <td>4</td>\n",
              "      <td>These your unusual weeds to each part of you D...</td>\n",
              "      <td>Comedy</td>\n",
              "    </tr>\n",
              "    <tr>\n",
              "      <th>750</th>\n",
              "      <td>Winter's Tale</td>\n",
              "      <td>5</td>\n",
              "      <td>1</td>\n",
              "      <td>Sir, you have done enough, and have perform'd ...</td>\n",
              "      <td>Comedy</td>\n",
              "    </tr>\n",
              "    <tr>\n",
              "      <th>751</th>\n",
              "      <td>Winter's Tale</td>\n",
              "      <td>5</td>\n",
              "      <td>2</td>\n",
              "      <td>Beseech you, sir, were you present at this rel...</td>\n",
              "      <td>Comedy</td>\n",
              "    </tr>\n",
              "    <tr>\n",
              "      <th>752</th>\n",
              "      <td>Winter's Tale</td>\n",
              "      <td>5</td>\n",
              "      <td>3</td>\n",
              "      <td>O grave and good Paulina, the great comfort Th...</td>\n",
              "      <td>Comedy</td>\n",
              "    </tr>\n",
              "  </tbody>\n",
              "</table>\n",
              "<p>753 rows × 5 columns</p>\n",
              "</div>\n",
              "    <div class=\"colab-df-buttons\">\n",
              "\n",
              "  <div class=\"colab-df-container\">\n",
              "    <button class=\"colab-df-convert\" onclick=\"convertToInteractive('df-2948fbc6-213e-45c5-bf47-3449ad334dc9')\"\n",
              "            title=\"Convert this dataframe to an interactive table.\"\n",
              "            style=\"display:none;\">\n",
              "\n",
              "  <svg xmlns=\"http://www.w3.org/2000/svg\" height=\"24px\" viewBox=\"0 -960 960 960\">\n",
              "    <path d=\"M120-120v-720h720v720H120Zm60-500h600v-160H180v160Zm220 220h160v-160H400v160Zm0 220h160v-160H400v160ZM180-400h160v-160H180v160Zm440 0h160v-160H620v160ZM180-180h160v-160H180v160Zm440 0h160v-160H620v160Z\"/>\n",
              "  </svg>\n",
              "    </button>\n",
              "\n",
              "  <style>\n",
              "    .colab-df-container {\n",
              "      display:flex;\n",
              "      gap: 12px;\n",
              "    }\n",
              "\n",
              "    .colab-df-convert {\n",
              "      background-color: #E8F0FE;\n",
              "      border: none;\n",
              "      border-radius: 50%;\n",
              "      cursor: pointer;\n",
              "      display: none;\n",
              "      fill: #1967D2;\n",
              "      height: 32px;\n",
              "      padding: 0 0 0 0;\n",
              "      width: 32px;\n",
              "    }\n",
              "\n",
              "    .colab-df-convert:hover {\n",
              "      background-color: #E2EBFA;\n",
              "      box-shadow: 0px 1px 2px rgba(60, 64, 67, 0.3), 0px 1px 3px 1px rgba(60, 64, 67, 0.15);\n",
              "      fill: #174EA6;\n",
              "    }\n",
              "\n",
              "    .colab-df-buttons div {\n",
              "      margin-bottom: 4px;\n",
              "    }\n",
              "\n",
              "    [theme=dark] .colab-df-convert {\n",
              "      background-color: #3B4455;\n",
              "      fill: #D2E3FC;\n",
              "    }\n",
              "\n",
              "    [theme=dark] .colab-df-convert:hover {\n",
              "      background-color: #434B5C;\n",
              "      box-shadow: 0px 1px 3px 1px rgba(0, 0, 0, 0.15);\n",
              "      filter: drop-shadow(0px 1px 2px rgba(0, 0, 0, 0.3));\n",
              "      fill: #FFFFFF;\n",
              "    }\n",
              "  </style>\n",
              "\n",
              "    <script>\n",
              "      const buttonEl =\n",
              "        document.querySelector('#df-2948fbc6-213e-45c5-bf47-3449ad334dc9 button.colab-df-convert');\n",
              "      buttonEl.style.display =\n",
              "        google.colab.kernel.accessAllowed ? 'block' : 'none';\n",
              "\n",
              "      async function convertToInteractive(key) {\n",
              "        const element = document.querySelector('#df-2948fbc6-213e-45c5-bf47-3449ad334dc9');\n",
              "        const dataTable =\n",
              "          await google.colab.kernel.invokeFunction('convertToInteractive',\n",
              "                                                    [key], {});\n",
              "        if (!dataTable) return;\n",
              "\n",
              "        const docLinkHtml = 'Like what you see? Visit the ' +\n",
              "          '<a target=\"_blank\" href=https://colab.research.google.com/notebooks/data_table.ipynb>data table notebook</a>'\n",
              "          + ' to learn more about interactive tables.';\n",
              "        element.innerHTML = '';\n",
              "        dataTable['output_type'] = 'display_data';\n",
              "        await google.colab.output.renderOutput(dataTable, element);\n",
              "        const docLink = document.createElement('div');\n",
              "        docLink.innerHTML = docLinkHtml;\n",
              "        element.appendChild(docLink);\n",
              "      }\n",
              "    </script>\n",
              "  </div>\n",
              "\n",
              "\n",
              "<div id=\"df-83c4786c-2a17-4d5a-9dea-f5dc554f3c4a\">\n",
              "  <button class=\"colab-df-quickchart\" onclick=\"quickchart('df-83c4786c-2a17-4d5a-9dea-f5dc554f3c4a')\"\n",
              "            title=\"Suggest charts\"\n",
              "            style=\"display:none;\">\n",
              "\n",
              "<svg xmlns=\"http://www.w3.org/2000/svg\" height=\"24px\"viewBox=\"0 0 24 24\"\n",
              "     width=\"24px\">\n",
              "    <g>\n",
              "        <path d=\"M19 3H5c-1.1 0-2 .9-2 2v14c0 1.1.9 2 2 2h14c1.1 0 2-.9 2-2V5c0-1.1-.9-2-2-2zM9 17H7v-7h2v7zm4 0h-2V7h2v10zm4 0h-2v-4h2v4z\"/>\n",
              "    </g>\n",
              "</svg>\n",
              "  </button>\n",
              "\n",
              "<style>\n",
              "  .colab-df-quickchart {\n",
              "      --bg-color: #E8F0FE;\n",
              "      --fill-color: #1967D2;\n",
              "      --hover-bg-color: #E2EBFA;\n",
              "      --hover-fill-color: #174EA6;\n",
              "      --disabled-fill-color: #AAA;\n",
              "      --disabled-bg-color: #DDD;\n",
              "  }\n",
              "\n",
              "  [theme=dark] .colab-df-quickchart {\n",
              "      --bg-color: #3B4455;\n",
              "      --fill-color: #D2E3FC;\n",
              "      --hover-bg-color: #434B5C;\n",
              "      --hover-fill-color: #FFFFFF;\n",
              "      --disabled-bg-color: #3B4455;\n",
              "      --disabled-fill-color: #666;\n",
              "  }\n",
              "\n",
              "  .colab-df-quickchart {\n",
              "    background-color: var(--bg-color);\n",
              "    border: none;\n",
              "    border-radius: 50%;\n",
              "    cursor: pointer;\n",
              "    display: none;\n",
              "    fill: var(--fill-color);\n",
              "    height: 32px;\n",
              "    padding: 0;\n",
              "    width: 32px;\n",
              "  }\n",
              "\n",
              "  .colab-df-quickchart:hover {\n",
              "    background-color: var(--hover-bg-color);\n",
              "    box-shadow: 0 1px 2px rgba(60, 64, 67, 0.3), 0 1px 3px 1px rgba(60, 64, 67, 0.15);\n",
              "    fill: var(--button-hover-fill-color);\n",
              "  }\n",
              "\n",
              "  .colab-df-quickchart-complete:disabled,\n",
              "  .colab-df-quickchart-complete:disabled:hover {\n",
              "    background-color: var(--disabled-bg-color);\n",
              "    fill: var(--disabled-fill-color);\n",
              "    box-shadow: none;\n",
              "  }\n",
              "\n",
              "  .colab-df-spinner {\n",
              "    border: 2px solid var(--fill-color);\n",
              "    border-color: transparent;\n",
              "    border-bottom-color: var(--fill-color);\n",
              "    animation:\n",
              "      spin 1s steps(1) infinite;\n",
              "  }\n",
              "\n",
              "  @keyframes spin {\n",
              "    0% {\n",
              "      border-color: transparent;\n",
              "      border-bottom-color: var(--fill-color);\n",
              "      border-left-color: var(--fill-color);\n",
              "    }\n",
              "    20% {\n",
              "      border-color: transparent;\n",
              "      border-left-color: var(--fill-color);\n",
              "      border-top-color: var(--fill-color);\n",
              "    }\n",
              "    30% {\n",
              "      border-color: transparent;\n",
              "      border-left-color: var(--fill-color);\n",
              "      border-top-color: var(--fill-color);\n",
              "      border-right-color: var(--fill-color);\n",
              "    }\n",
              "    40% {\n",
              "      border-color: transparent;\n",
              "      border-right-color: var(--fill-color);\n",
              "      border-top-color: var(--fill-color);\n",
              "    }\n",
              "    60% {\n",
              "      border-color: transparent;\n",
              "      border-right-color: var(--fill-color);\n",
              "    }\n",
              "    80% {\n",
              "      border-color: transparent;\n",
              "      border-right-color: var(--fill-color);\n",
              "      border-bottom-color: var(--fill-color);\n",
              "    }\n",
              "    90% {\n",
              "      border-color: transparent;\n",
              "      border-bottom-color: var(--fill-color);\n",
              "    }\n",
              "  }\n",
              "</style>\n",
              "\n",
              "  <script>\n",
              "    async function quickchart(key) {\n",
              "      const quickchartButtonEl =\n",
              "        document.querySelector('#' + key + ' button');\n",
              "      quickchartButtonEl.disabled = true;  // To prevent multiple clicks.\n",
              "      quickchartButtonEl.classList.add('colab-df-spinner');\n",
              "      try {\n",
              "        const charts = await google.colab.kernel.invokeFunction(\n",
              "            'suggestCharts', [key], {});\n",
              "      } catch (error) {\n",
              "        console.error('Error during call to suggestCharts:', error);\n",
              "      }\n",
              "      quickchartButtonEl.classList.remove('colab-df-spinner');\n",
              "      quickchartButtonEl.classList.add('colab-df-quickchart-complete');\n",
              "    }\n",
              "    (() => {\n",
              "      let quickchartButtonEl =\n",
              "        document.querySelector('#df-83c4786c-2a17-4d5a-9dea-f5dc554f3c4a button');\n",
              "      quickchartButtonEl.style.display =\n",
              "        google.colab.kernel.accessAllowed ? 'block' : 'none';\n",
              "    })();\n",
              "  </script>\n",
              "</div>\n",
              "    </div>\n",
              "  </div>\n"
            ],
            "application/vnd.google.colaboratory.intrinsic+json": {
              "type": "dataframe",
              "variable_name": "scenes",
              "summary": "{\n  \"name\": \"scenes\",\n  \"rows\": 753,\n  \"fields\": [\n    {\n      \"column\": \"play_name\",\n      \"properties\": {\n        \"dtype\": \"category\",\n        \"num_unique_values\": 37,\n        \"samples\": [\n          \"Love's Labours Lost\",\n          \"Henry VIII\",\n          \"Coriolanus\"\n        ],\n        \"semantic_type\": \"\",\n        \"description\": \"\"\n      }\n    },\n    {\n      \"column\": \"act\",\n      \"properties\": {\n        \"dtype\": \"number\",\n        \"std\": 1,\n        \"min\": 0,\n        \"max\": 5,\n        \"num_unique_values\": 6,\n        \"samples\": [\n          1,\n          2,\n          0\n        ],\n        \"semantic_type\": \"\",\n        \"description\": \"\"\n      }\n    },\n    {\n      \"column\": \"scene\",\n      \"properties\": {\n        \"dtype\": \"number\",\n        \"std\": 2,\n        \"min\": 0,\n        \"max\": 15,\n        \"num_unique_values\": 16,\n        \"samples\": [\n          1,\n          2,\n          6\n        ],\n        \"semantic_type\": \"\",\n        \"description\": \"\"\n      }\n    },\n    {\n      \"column\": \"text\",\n      \"properties\": {\n        \"dtype\": \"string\",\n        \"num_unique_values\": 753,\n        \"samples\": [\n          \"Nay, I prithee, put on this gown and this beard; make him believe thou art Sir Topas the curate: do it quickly; I'll call Sir Toby the whilst. Well, I'll put it on, and I will dissemble myself in't; and I would I were the first that ever dissembled in such a gown. I am not tall enough to become the function well, nor lean enough to be thought a good student; but to be said an honest man and a good housekeeper goes as fairly as to say a careful man and a great scholar. The competitors enter. Jove bless thee, master Parson. Bonos dies, Sir Toby: for, as the old hermit of Prague, that never saw pen and ink, very wittily said to a niece of King Gorboduc, 'That that is is;' so I, being Master Parson, am Master Parson; for, what is 'that' but 'that,' and 'is' but 'is'? To him, Sir Topas. What, ho, I say! peace in this prison! The knave counterfeits well; a good knave. [Within]  Who calls there? Sir Topas the curate, who comes to visit Malvolio the lunatic. Sir Topas, Sir Topas, good Sir Topas, go to my lady. Out, hyperbolical fiend! how vexest thou this man! talkest thou nothing but of ladies? Well said, Master Parson. Sir Topas, never was man thus wronged: good Sir Topas, do not think I am mad: they have laid me here in hideous darkness. Fie, thou dishonest Satan! I call thee by the most modest terms; for I am one of those gentle ones that will use the devil himself with courtesy: sayest thou that house is dark? As hell, Sir Topas. Why it hath bay windows transparent as barricadoes, and the clearstores toward the south north are as lustrous as ebony; and yet complainest thou of obstruction? I am not mad, Sir Topas: I say to you, this house is dark. Madman, thou errest: I say, there is no darkness but ignorance; in which thou art more puzzled than the Egyptians in their fog. I say, this house is as dark as ignorance, though ignorance were as dark as hell; and I say, there was never man thus abused. I am no more mad than you are: make the trial of it in any constant question. What is the opinion of Pythagoras concerning wild fowl? That the soul of our grandam might haply inhabit a bird. What thinkest thou of his opinion? I think nobly of the soul, and no way approve his opinion. Fare thee well. Remain thou still in darkness: thou shalt hold the opinion of Pythagoras ere I will allow of thy wits, and fear to kill a woodcock, lest thou dispossess the soul of thy grandam. Fare thee well. Sir Topas, Sir Topas! My most exquisite Sir Topas! Nay, I am for all waters. Thou mightst have done this without thy beard and gown: he sees thee not. To him in thine own voice, and bring me word how thou findest him: I would we were well rid of this knavery. If he may be conveniently delivered, I would he were, for I am now so far in offence with my niece that I cannot pursue with any safety this sport to the upshot. Come by and by to my chamber. [Singing] 'Hey, Robin, jolly Robin, Tell me how thy lady does.' Fool! 'My lady is unkind, perdy.' Fool! 'Alas, why is she so?' Fool, I say! 'She loves another'--Who calls, ha? Good fool, as ever thou wilt deserve well at my hand, help me to a candle, and pen, ink and paper: as I am a gentleman, I will live to be thankful to thee for't. Master Malvolio? Ay, good fool. Alas, sir, how fell you besides your five wits? Fool, there was never a man so notoriously abused: I am as well in my wits, fool, as thou art. But as well? then you are mad indeed, if you be no better in your wits than a fool. They have here propertied me; keep me in darkness, send ministers to me, asses, and do all they can to face me out of my wits. Advise you what you say; the minister is here. Malvolio, Malvolio, thy wits the heavens restore! endeavour thyself to sleep, and leave thy vain bibble babble. Sir Topas! Maintain no words with him, good fellow. Who, I, sir? not I, sir. God be wi' you, good Sir Topas. Merry, amen. I will, sir, I will. Fool, fool, fool, I say! Alas, sir, be patient. What say you sir? I am shent for speaking to you. Good fool, help me to some light and some paper: I tell thee, I am as well in my wits as any man in Illyria. Well-a-day that you were, sir By this hand, I am. Good fool, some ink, paper and light; and convey what I will set down to my lady: it shall advantage thee more than ever the bearing of letter did. I will help you to't. But tell me true, are you not mad indeed? or do you but counterfeit? Believe me, I am not; I tell thee true. Nay, I'll ne'er believe a madman till I see his brains. I will fetch you light and paper and ink. Fool, I'll requite it in the highest degree: I prithee, be gone. [Singing] I am gone, sir, And anon, sir, I'll be with you again, In a trice, Like to the old Vice, Your need to sustain; Who, with dagger of lath, In his rage and his wrath, Cries, ah, ha! to the devil: Like a mad lad, Pare thy nails, dad; Adieu, good man devil.\",\n          \"Who, the Lord Timon? he is my very good friend, and an honourable gentleman. We know him for no less, though we are but strangers to him. But I can tell you one thing, my lord, and which I hear from common rumours: now Lord Timon's happy hours are done and past, and his estate shrinks from him. Fie, no, do not believe it; he cannot want for money. But believe you this, my lord, that, not long ago, one of his men was with the Lord Lucullus to borrow so many talents, nay, urged extremely for't and showed what necessity belonged to't, and yet was denied. How! I tell you, denied, my lord. What a strange case was that! now, before the gods, I am ashamed on't. Denied that honourable man! there was very little honour showed in't. For my own part, I must needs confess, I have received some small kindnesses from him, as money, plate, jewels and such-like trifles, nothing comparing to his; yet, had he mistook him and sent to me, I should ne'er have denied his occasion so many talents. See, by good hap, yonder's my lord; I have sweat to see his honour. My honoured lord,-- Servilius! you are kindly met, sir. Fare thee well: commend me to thy honourable virtuous lord, my very exquisite friend. May it please your honour, my lord hath sent-- Ha! what has he sent? I am so much endeared to that lord; he's ever sending: how shall I thank him, thinkest thou? And what has he sent now? Has only sent his present occasion now, my lord; requesting your lordship to supply his instant use with so many talents. I know his lordship is but merry with me; He cannot want fifty five hundred talents. But in the mean time he wants less, my lord. If his occasion were not virtuous, I should not urge it half so faithfully. Dost thou speak seriously, Servilius? Upon my soul,'tis true, sir. What a wicked beast was I to disfurnish myself against such a good time, when I might ha' shown myself honourable! how unluckily it happened, that I should purchase the day before for a little part, and undo a great deal of honoured! Servilius, now, before the gods, I am not able to do,--the more beast, I say:--I was sending to use Lord Timon myself, these gentlemen can witness! but I would not, for the wealth of Athens, I had done't now. Commend me bountifully to his good lordship; and I hope his honour will conceive the fairest of me, because I have no power to be kind: and tell him this from me, I count it one of my greatest afflictions, say, that I cannot pleasure such an honourable gentleman. Good Servilius, will you befriend me so far, as to use mine own words to him? Yes, sir, I shall. I'll look you out a good turn, Servilius. True as you said, Timon is shrunk indeed; And he that's once denied will hardly speed. Do you observe this, Hostilius? Ay, too well. Why, this is the world's soul; and just of the same piece Is every flatterer's spirit. Who can call him His friend that dips in the same dish? for, in My knowing, Timon has been this lord's father, And kept his credit with his purse, Supported his estate; nay, Timon's money Has paid his men their wages: he ne'er drinks, But Timon's silver treads upon his lip; And yet--O, see the monstrousness of man When he looks out in an ungrateful shape!-- He does deny him, in respect of his, What charitable men afford to beggars. Religion groans at it. For mine own part, I never tasted Timon in my life, Nor came any of his bounties over me, To mark me for his friend; yet, I protest, For his right noble mind, illustrious virtue And honourable carriage, Had his necessity made use of me, I would have put my wealth into donation, And the best half should have return'd to him, So much I love his heart: but, I perceive, Men must learn now with pity to dispense; For policy sits above conscience.\",\n          \"Go you before to Gloucester with these letters. Acquaint my daughter no further with any thing you know than comes from her demand out of the letter. If your diligence be not speedy, I shall be there afore you. I will not sleep, my lord, till I have delivered your letter. If a man's brains were in's heels, were't not in danger of kibes? Ay, boy. Then, I prithee, be merry; thy wit shall ne'er go slip-shod. Ha, ha, ha! Shalt see thy other daughter will use thee kindly; for though she's as like this as a crab's like an apple, yet I can tell what I can tell. Why, what canst thou tell, my boy? She will taste as like this as a crab does to a crab. Thou canst tell why one's nose stands i' the middle on's face? No. Why, to keep one's eyes of either side's nose; that what a man cannot smell out, he may spy into. I did her wrong-- Canst tell how an oyster makes his shell? No. Nor I neither; but I can tell why a snail has a house. Why? Why, to put his head in; not to give it away to his daughters, and leave his horns without a case. I will forget my nature. So kind a father! Be my horses ready? Thy asses are gone about 'em. The reason why the seven stars are no more than seven is a pretty reason. Because they are not eight? Yes, indeed: thou wouldst make a good fool. To take 't again perforce! Monster ingratitude! If thou wert my fool, nuncle, I'ld have thee beaten for being old before thy time. How's that? Thou shouldst not have been old till thou hadst been wise. O, let me not be mad, not mad, sweet heaven Keep me in temper: I would not be mad! How now! are the horses ready? Ready, my lord. Come, boy. She that's a maid now, and laughs at my departure, Shall not be a maid long, unless things be cut shorter.\"\n        ],\n        \"semantic_type\": \"\",\n        \"description\": \"\"\n      }\n    },\n    {\n      \"column\": \"genre\",\n      \"properties\": {\n        \"dtype\": \"category\",\n        \"num_unique_values\": 3,\n        \"samples\": [\n          \"Comedy\",\n          \"Tragedy\",\n          \"History\"\n        ],\n        \"semantic_type\": \"\",\n        \"description\": \"\"\n      }\n    }\n  ]\n}"
            }
          },
          "metadata": {},
          "execution_count": 7
        }
      ]
    },
    {
      "cell_type": "code",
      "source": [
        "plt.hist(scenes['genre'], bins=3,edgecolor='black')\n",
        "plt.plot()"
      ],
      "metadata": {
        "colab": {
          "base_uri": "https://localhost:8080/",
          "height": 448
        },
        "id": "sM5GGNAl-hyT",
        "outputId": "dac0c699-99db-49bb-ff1e-4c4624a187ca"
      },
      "execution_count": null,
      "outputs": [
        {
          "output_type": "execute_result",
          "data": {
            "text/plain": [
              "[]"
            ]
          },
          "metadata": {},
          "execution_count": 8
        },
        {
          "output_type": "display_data",
          "data": {
            "text/plain": [
              "<Figure size 640x480 with 1 Axes>"
            ],
            "image/png": "[encoded data removed]"
          },
          "metadata": {}
        }
      ]
    },
    {
      "cell_type": "code",
      "source": [
        "Lemmatizer = WordNetLemmatizer()\n",
        "\n",
        "def lemmatizer_tag(word): # Получение части речи в формате, который требует лемматизатор\n",
        "  tag = pos_tag([word])[0][1][0].upper()\n",
        "  tag_dict = {\n",
        "      \"J\": \"a\",  # Прилагательное\n",
        "      \"N\": \"n\",  # Существительное\n",
        "      \"R\": \"r\",  # Наречие\n",
        "      \"V\": \"v\",  # Глагол\n",
        "    }\n",
        "  return tag_dict.get(tag, \"n\")\n",
        "\n",
        "def clean_text(text, normalization=False):\n",
        "  text = text.lower() # Приведение к нижнему регистру\n",
        "  words = word_tokenize(text) # Токенизация\n",
        "  no_stop_words = [word for word in words if word not in set(stopwords.words('english')) and word.isalpha()] # Удаление стоп-слов и не-слов (цифр, спец знаков и т.п.)\n",
        "  if normalization: # Лемматизация (метод нормализации) происходит, если того требует пользователь\n",
        "    cleaned_words = [Lemmatizer.lemmatize(word, lemmatizer_tag(word)) for word in no_stop_words]\n",
        "    return ' '.join(cleaned_words)\n",
        "  return ' '.join(no_stop_words)"
      ],
      "metadata": {
        "id": "ezpNQ7NGAuYu"
      },
      "execution_count": null,
      "outputs": []
    },
    {
      "cell_type": "code",
      "source": [
        "scenes[\"clear text\"] = scenes['text'].apply(clean_text)\n",
        "scenes[\"normalized text\"] = scenes['text'].apply(lambda x: clean_text(x, True))\n",
        "scenes"
      ],
      "metadata": {
        "colab": {
          "base_uri": "https://localhost:8080/",
          "height": 597
        },
        "id": "6Z0Qb5Z_DU8M",
        "outputId": "d3cd1b84-e7ee-4a79-8e31-8f63f6601722"
      },
      "execution_count": null,
      "outputs": [
        {
          "output_type": "execute_result",
          "data": {
            "text/plain": [
              "                     play_name  act  scene  \\\n",
              "0    A Midsummer Night's Dream    1      1   \n",
              "1    A Midsummer Night's Dream    1      2   \n",
              "2    A Midsummer Night's Dream    2      1   \n",
              "3    A Midsummer Night's Dream    2      2   \n",
              "4    A Midsummer Night's Dream    3      1   \n",
              "..                         ...  ...    ...   \n",
              "748              Winter's Tale    4      3   \n",
              "749              Winter's Tale    4      4   \n",
              "750              Winter's Tale    5      1   \n",
              "751              Winter's Tale    5      2   \n",
              "752              Winter's Tale    5      3   \n",
              "\n",
              "                                                  text   genre  \\\n",
              "0    Now, fair Hippolyta, our nuptial hour Draws on...  Comedy   \n",
              "1    Is all our company here? You were best to call...  Comedy   \n",
              "2    How now, spirit! whither wander you? Over hill...  Comedy   \n",
              "3    Come, now a roundel and a fairy song; Then, fo...  Comedy   \n",
              "4    Are we all met? Pat, pat; and here's a marvell...  Comedy   \n",
              "..                                                 ...     ...   \n",
              "748  I, that please some, try all, both joy and ter...  Comedy   \n",
              "749  These your unusual weeds to each part of you D...  Comedy   \n",
              "750  Sir, you have done enough, and have perform'd ...  Comedy   \n",
              "751  Beseech you, sir, were you present at this rel...  Comedy   \n",
              "752  O grave and good Paulina, the great comfort Th...  Comedy   \n",
              "\n",
              "                                            clear text  \\\n",
              "0    fair hippolyta nuptial hour draws apace four h...   \n",
              "1    company best call generally man man according ...   \n",
              "2    spirit whither wander hill dale thorough bush ...   \n",
              "3    come roundel fairy song third part minute henc...   \n",
              "4    met pat pat marvellous convenient place rehear...   \n",
              "..                                                 ...   \n",
              "748  please try joy terror good bad makes unfolds e...   \n",
              "749  unusual weeds part give life shepherdess flora...   \n",
              "750  sir done enough perform sorrow fault could mak...   \n",
              "751  beseech sir present relation opening fardel he...   \n",
              "752  grave good paulina great comfort thee sovereig...   \n",
              "\n",
              "                                       normalized text  \n",
              "0    fair hippolyta nuptial hour draw apace four ha...  \n",
              "1    company best call generally man man accord scr...  \n",
              "2    spirit whither wander hill dale thorough bush ...  \n",
              "3    come roundel fairy song third part minute henc...  \n",
              "4    met pat pat marvellous convenient place rehear...  \n",
              "..                                                 ...  \n",
              "748  please try joy terror good bad make unfolds er...  \n",
              "749  unusual weed part give life shepherdess flora ...  \n",
              "750  sir do enough perform sorrow fault could make ...  \n",
              "751  beseech sir present relation opening fardel he...  \n",
              "752  grave good paulina great comfort thee sovereig...  \n",
              "\n",
              "[753 rows x 7 columns]"
            ],
            "text/html": [
              "\n",
              "  <div id=\"df-efe2651a-854b-4daf-acce-8505f8a024a8\" class=\"colab-df-container\">\n",
              "    <div>\n",
              "<style scoped>\n",
              "    .dataframe tbody tr th:only-of-type {\n",
              "        vertical-align: middle;\n",
              "    }\n",
              "\n",
              "    .dataframe tbody tr th {\n",
              "        vertical-align: top;\n",
              "    }\n",
              "\n",
              "    .dataframe thead th {\n",
              "        text-align: right;\n",
              "    }\n",
              "</style>\n",
              "<table border=\"1\" class=\"dataframe\">\n",
              "  <thead>\n",
              "    <tr style=\"text-align: right;\">\n",
              "      <th></th>\n",
              "      <th>play_name</th>\n",
              "      <th>act</th>\n",
              "      <th>scene</th>\n",
              "      <th>text</th>\n",
              "      <th>genre</th>\n",
              "      <th>clear text</th>\n",
              "      <th>normalized text</th>\n",
              "    </tr>\n",
              "  </thead>\n",
              "  <tbody>\n",
              "    <tr>\n",
              "      <th>0</th>\n",
              "      <td>A Midsummer Night's Dream</td>\n",
              "      <td>1</td>\n",
              "      <td>1</td>\n",
              "      <td>Now, fair Hippolyta, our nuptial hour Draws on...</td>\n",
              "      <td>Comedy</td>\n",
              "      <td>fair hippolyta nuptial hour draws apace four h...</td>\n",
              "      <td>fair hippolyta nuptial hour draw apace four ha...</td>\n",
              "    </tr>\n",
              "    <tr>\n",
              "      <th>1</th>\n",
              "      <td>A Midsummer Night's Dream</td>\n",
              "      <td>1</td>\n",
              "      <td>2</td>\n",
              "      <td>Is all our company here? You were best to call...</td>\n",
              "      <td>Comedy</td>\n",
              "      <td>company best call generally man man according ...</td>\n",
              "      <td>company best call generally man man accord scr...</td>\n",
              "    </tr>\n",
              "    <tr>\n",
              "      <th>2</th>\n",
              "      <td>A Midsummer Night's Dream</td>\n",
              "      <td>2</td>\n",
              "      <td>1</td>\n",
              "      <td>How now, spirit! whither wander you? Over hill...</td>\n",
              "      <td>Comedy</td>\n",
              "      <td>spirit whither wander hill dale thorough bush ...</td>\n",
              "      <td>spirit whither wander hill dale thorough bush ...</td>\n",
              "    </tr>\n",
              "    <tr>\n",
              "      <th>3</th>\n",
              "      <td>A Midsummer Night's Dream</td>\n",
              "      <td>2</td>\n",
              "      <td>2</td>\n",
              "      <td>Come, now a roundel and a fairy song; Then, fo...</td>\n",
              "      <td>Comedy</td>\n",
              "      <td>come roundel fairy song third part minute henc...</td>\n",
              "      <td>come roundel fairy song third part minute henc...</td>\n",
              "    </tr>\n",
              "    <tr>\n",
              "      <th>4</th>\n",
              "      <td>A Midsummer Night's Dream</td>\n",
              "      <td>3</td>\n",
              "      <td>1</td>\n",
              "      <td>Are we all met? Pat, pat; and here's a marvell...</td>\n",
              "      <td>Comedy</td>\n",
              "      <td>met pat pat marvellous convenient place rehear...</td>\n",
              "      <td>met pat pat marvellous convenient place rehear...</td>\n",
              "    </tr>\n",
              "    <tr>\n",
              "      <th>...</th>\n",
              "      <td>...</td>\n",
              "      <td>...</td>\n",
              "      <td>...</td>\n",
              "      <td>...</td>\n",
              "      <td>...</td>\n",
              "      <td>...</td>\n",
              "      <td>...</td>\n",
              "    </tr>\n",
              "    <tr>\n",
              "      <th>748</th>\n",
              "      <td>Winter's Tale</td>\n",
              "      <td>4</td>\n",
              "      <td>3</td>\n",
              "      <td>I, that please some, try all, both joy and ter...</td>\n",
              "      <td>Comedy</td>\n",
              "      <td>please try joy terror good bad makes unfolds e...</td>\n",
              "      <td>please try joy terror good bad make unfolds er...</td>\n",
              "    </tr>\n",
              "    <tr>\n",
              "      <th>749</th>\n",
              "      <td>Winter's Tale</td>\n",
              "      <td>4</td>\n",
              "      <td>4</td>\n",
              "      <td>These your unusual weeds to each part of you D...</td>\n",
              "      <td>Comedy</td>\n",
              "      <td>unusual weeds part give life shepherdess flora...</td>\n",
              "      <td>unusual weed part give life shepherdess flora ...</td>\n",
              "    </tr>\n",
              "    <tr>\n",
              "      <th>750</th>\n",
              "      <td>Winter's Tale</td>\n",
              "      <td>5</td>\n",
              "      <td>1</td>\n",
              "      <td>Sir, you have done enough, and have perform'd ...</td>\n",
              "      <td>Comedy</td>\n",
              "      <td>sir done enough perform sorrow fault could mak...</td>\n",
              "      <td>sir do enough perform sorrow fault could make ...</td>\n",
              "    </tr>\n",
              "    <tr>\n",
              "      <th>751</th>\n",
              "      <td>Winter's Tale</td>\n",
              "      <td>5</td>\n",
              "      <td>2</td>\n",
              "      <td>Beseech you, sir, were you present at this rel...</td>\n",
              "      <td>Comedy</td>\n",
              "      <td>beseech sir present relation opening fardel he...</td>\n",
              "      <td>beseech sir present relation opening fardel he...</td>\n",
              "    </tr>\n",
              "    <tr>\n",
              "      <th>752</th>\n",
              "      <td>Winter's Tale</td>\n",
              "      <td>5</td>\n",
              "      <td>3</td>\n",
              "      <td>O grave and good Paulina, the great comfort Th...</td>\n",
              "      <td>Comedy</td>\n",
              "      <td>grave good paulina great comfort thee sovereig...</td>\n",
              "      <td>grave good paulina great comfort thee sovereig...</td>\n",
              "    </tr>\n",
              "  </tbody>\n",
              "</table>\n",
              "<p>753 rows × 7 columns</p>\n",
              "</div>\n",
              "    <div class=\"colab-df-buttons\">\n",
              "\n",
              "  <div class=\"colab-df-container\">\n",
              "    <button class=\"colab-df-convert\" onclick=\"convertToInteractive('df-efe2651a-854b-4daf-acce-8505f8a024a8')\"\n",
              "            title=\"Convert this dataframe to an interactive table.\"\n",
              "            style=\"display:none;\">\n",
              "\n",
              "  <svg xmlns=\"http://www.w3.org/2000/svg\" height=\"24px\" viewBox=\"0 -960 960 960\">\n",
              "    <path d=\"M120-120v-720h720v720H120Zm60-500h600v-160H180v160Zm220 220h160v-160H400v160Zm0 220h160v-160H400v160ZM180-400h160v-160H180v160Zm440 0h160v-160H620v160ZM180-180h160v-160H180v160Zm440 0h160v-160H620v160Z\"/>\n",
              "  </svg>\n",
              "    </button>\n",
              "\n",
              "  <style>\n",
              "    .colab-df-container {\n",
              "      display:flex;\n",
              "      gap: 12px;\n",
              "    }\n",
              "\n",
              "    .colab-df-convert {\n",
              "      background-color: #E8F0FE;\n",
              "      border: none;\n",
              "      border-radius: 50%;\n",
              "      cursor: pointer;\n",
              "      display: none;\n",
              "      fill: #1967D2;\n",
              "      height: 32px;\n",
              "      padding: 0 0 0 0;\n",
              "      width: 32px;\n",
              "    }\n",
              "\n",
              "    .colab-df-convert:hover {\n",
              "      background-color: #E2EBFA;\n",
              "      box-shadow: 0px 1px 2px rgba(60, 64, 67, 0.3), 0px 1px 3px 1px rgba(60, 64, 67, 0.15);\n",
              "      fill: #174EA6;\n",
              "    }\n",
              "\n",
              "    .colab-df-buttons div {\n",
              "      margin-bottom: 4px;\n",
              "    }\n",
              "\n",
              "    [theme=dark] .colab-df-convert {\n",
              "      background-color: #3B4455;\n",
              "      fill: #D2E3FC;\n",
              "    }\n",
              "\n",
              "    [theme=dark] .colab-df-convert:hover {\n",
              "      background-color: #434B5C;\n",
              "      box-shadow: 0px 1px 3px 1px rgba(0, 0, 0, 0.15);\n",
              "      filter: drop-shadow(0px 1px 2px rgba(0, 0, 0, 0.3));\n",
              "      fill: #FFFFFF;\n",
              "    }\n",
              "  </style>\n",
              "\n",
              "    <script>\n",
              "      const buttonEl =\n",
              "        document.querySelector('#df-efe2651a-854b-4daf-acce-8505f8a024a8 button.colab-df-convert');\n",
              "      buttonEl.style.display =\n",
              "        google.colab.kernel.accessAllowed ? 'block' : 'none';\n",
              "\n",
              "      async function convertToInteractive(key) {\n",
              "        const element = document.querySelector('#df-efe2651a-854b-4daf-acce-8505f8a024a8');\n",
              "        const dataTable =\n",
              "          await google.colab.kernel.invokeFunction('convertToInteractive',\n",
              "                                                    [key], {});\n",
              "        if (!dataTable) return;\n",
              "\n",
              "        const docLinkHtml = 'Like what you see? Visit the ' +\n",
              "          '<a target=\"_blank\" href=https://colab.research.google.com/notebooks/data_table.ipynb>data table notebook</a>'\n",
              "          + ' to learn more about interactive tables.';\n",
              "        element.innerHTML = '';\n",
              "        dataTable['output_type'] = 'display_data';\n",
              "        await google.colab.output.renderOutput(dataTable, element);\n",
              "        const docLink = document.createElement('div');\n",
              "        docLink.innerHTML = docLinkHtml;\n",
              "        element.appendChild(docLink);\n",
              "      }\n",
              "    </script>\n",
              "  </div>\n",
              "\n",
              "\n",
              "<div id=\"df-2da422f5-1c3d-44aa-ac50-307a580e8a54\">\n",
              "  <button class=\"colab-df-quickchart\" onclick=\"quickchart('df-2da422f5-1c3d-44aa-ac50-307a580e8a54')\"\n",
              "            title=\"Suggest charts\"\n",
              "            style=\"display:none;\">\n",
              "\n",
              "<svg xmlns=\"http://www.w3.org/2000/svg\" height=\"24px\"viewBox=\"0 0 24 24\"\n",
              "     width=\"24px\">\n",
              "    <g>\n",
              "        <path d=\"M19 3H5c-1.1 0-2 .9-2 2v14c0 1.1.9 2 2 2h14c1.1 0 2-.9 2-2V5c0-1.1-.9-2-2-2zM9 17H7v-7h2v7zm4 0h-2V7h2v10zm4 0h-2v-4h2v4z\"/>\n",
              "    </g>\n",
              "</svg>\n",
              "  </button>\n",
              "\n",
              "<style>\n",
              "  .colab-df-quickchart {\n",
              "      --bg-color: #E8F0FE;\n",
              "      --fill-color: #1967D2;\n",
              "      --hover-bg-color: #E2EBFA;\n",
              "      --hover-fill-color: #174EA6;\n",
              "      --disabled-fill-color: #AAA;\n",
              "      --disabled-bg-color: #DDD;\n",
              "  }\n",
              "\n",
              "  [theme=dark] .colab-df-quickchart {\n",
              "      --bg-color: #3B4455;\n",
              "      --fill-color: #D2E3FC;\n",
              "      --hover-bg-color: #434B5C;\n",
              "      --hover-fill-color: #FFFFFF;\n",
              "      --disabled-bg-color: #3B4455;\n",
              "      --disabled-fill-color: #666;\n",
              "  }\n",
              "\n",
              "  .colab-df-quickchart {\n",
              "    background-color: var(--bg-color);\n",
              "    border: none;\n",
              "    border-radius: 50%;\n",
              "    cursor: pointer;\n",
              "    display: none;\n",
              "    fill: var(--fill-color);\n",
              "    height: 32px;\n",
              "    padding: 0;\n",
              "    width: 32px;\n",
              "  }\n",
              "\n",
              "  .colab-df-quickchart:hover {\n",
              "    background-color: var(--hover-bg-color);\n",
              "    box-shadow: 0 1px 2px rgba(60, 64, 67, 0.3), 0 1px 3px 1px rgba(60, 64, 67, 0.15);\n",
              "    fill: var(--button-hover-fill-color);\n",
              "  }\n",
              "\n",
              "  .colab-df-quickchart-complete:disabled,\n",
              "  .colab-df-quickchart-complete:disabled:hover {\n",
              "    background-color: var(--disabled-bg-color);\n",
              "    fill: var(--disabled-fill-color);\n",
              "    box-shadow: none;\n",
              "  }\n",
              "\n",
              "  .colab-df-spinner {\n",
              "    border: 2px solid var(--fill-color);\n",
              "    border-color: transparent;\n",
              "    border-bottom-color: var(--fill-color);\n",
              "    animation:\n",
              "      spin 1s steps(1) infinite;\n",
              "  }\n",
              "\n",
              "  @keyframes spin {\n",
              "    0% {\n",
              "      border-color: transparent;\n",
              "      border-bottom-color: var(--fill-color);\n",
              "      border-left-color: var(--fill-color);\n",
              "    }\n",
              "    20% {\n",
              "      border-color: transparent;\n",
              "      border-left-color: var(--fill-color);\n",
              "      border-top-color: var(--fill-color);\n",
              "    }\n",
              "    30% {\n",
              "      border-color: transparent;\n",
              "      border-left-color: var(--fill-color);\n",
              "      border-top-color: var(--fill-color);\n",
              "      border-right-color: var(--fill-color);\n",
              "    }\n",
              "    40% {\n",
              "      border-color: transparent;\n",
              "      border-right-color: var(--fill-color);\n",
              "      border-top-color: var(--fill-color);\n",
              "    }\n",
              "    60% {\n",
              "      border-color: transparent;\n",
              "      border-right-color: var(--fill-color);\n",
              "    }\n",
              "    80% {\n",
              "      border-color: transparent;\n",
              "      border-right-color: var(--fill-color);\n",
              "      border-bottom-color: var(--fill-color);\n",
              "    }\n",
              "    90% {\n",
              "      border-color: transparent;\n",
              "      border-bottom-color: var(--fill-color);\n",
              "    }\n",
              "  }\n",
              "</style>\n",
              "\n",
              "  <script>\n",
              "    async function quickchart(key) {\n",
              "      const quickchartButtonEl =\n",
              "        document.querySelector('#' + key + ' button');\n",
              "      quickchartButtonEl.disabled = true;  // To prevent multiple clicks.\n",
              "      quickchartButtonEl.classList.add('colab-df-spinner');\n",
              "      try {\n",
              "        const charts = await google.colab.kernel.invokeFunction(\n",
              "            'suggestCharts', [key], {});\n",
              "      } catch (error) {\n",
              "        console.error('Error during call to suggestCharts:', error);\n",
              "      }\n",
              "      quickchartButtonEl.classList.remove('colab-df-spinner');\n",
              "      quickchartButtonEl.classList.add('colab-df-quickchart-complete');\n",
              "    }\n",
              "    (() => {\n",
              "      let quickchartButtonEl =\n",
              "        document.querySelector('#df-2da422f5-1c3d-44aa-ac50-307a580e8a54 button');\n",
              "      quickchartButtonEl.style.display =\n",
              "        google.colab.kernel.accessAllowed ? 'block' : 'none';\n",
              "    })();\n",
              "  </script>\n",
              "</div>\n",
              "    </div>\n",
              "  </div>\n"
            ],
            "application/vnd.google.colaboratory.intrinsic+json": {
              "type": "dataframe",
              "variable_name": "scenes",
              "summary": "{\n  \"name\": \"scenes\",\n  \"rows\": 753,\n  \"fields\": [\n    {\n      \"column\": \"play_name\",\n      \"properties\": {\n        \"dtype\": \"category\",\n        \"num_unique_values\": 37,\n        \"samples\": [\n          \"Love's Labours Lost\",\n          \"Henry VIII\",\n          \"Coriolanus\"\n        ],\n        \"semantic_type\": \"\",\n        \"description\": \"\"\n      }\n    },\n    {\n      \"column\": \"act\",\n      \"properties\": {\n        \"dtype\": \"number\",\n        \"std\": 1,\n        \"min\": 0,\n        \"max\": 5,\n        \"num_unique_values\": 6,\n        \"samples\": [\n          1,\n          2,\n          0\n        ],\n        \"semantic_type\": \"\",\n        \"description\": \"\"\n      }\n    },\n    {\n      \"column\": \"scene\",\n      \"properties\": {\n        \"dtype\": \"number\",\n        \"std\": 2,\n        \"min\": 0,\n        \"max\": 15,\n        \"num_unique_values\": 16,\n        \"samples\": [\n          1,\n          2,\n          6\n        ],\n        \"semantic_type\": \"\",\n        \"description\": \"\"\n      }\n    },\n    {\n      \"column\": \"text\",\n      \"properties\": {\n        \"dtype\": \"string\",\n        \"num_unique_values\": 753,\n        \"samples\": [\n          \"Nay, I prithee, put on this gown and this beard; make him believe thou art Sir Topas the curate: do it quickly; I'll call Sir Toby the whilst. Well, I'll put it on, and I will dissemble myself in't; and I would I were the first that ever dissembled in such a gown. I am not tall enough to become the function well, nor lean enough to be thought a good student; but to be said an honest man and a good housekeeper goes as fairly as to say a careful man and a great scholar. The competitors enter. Jove bless thee, master Parson. Bonos dies, Sir Toby: for, as the old hermit of Prague, that never saw pen and ink, very wittily said to a niece of King Gorboduc, 'That that is is;' so I, being Master Parson, am Master Parson; for, what is 'that' but 'that,' and 'is' but 'is'? To him, Sir Topas. What, ho, I say! peace in this prison! The knave counterfeits well; a good knave. [Within]  Who calls there? Sir Topas the curate, who comes to visit Malvolio the lunatic. Sir Topas, Sir Topas, good Sir Topas, go to my lady. Out, hyperbolical fiend! how vexest thou this man! talkest thou nothing but of ladies? Well said, Master Parson. Sir Topas, never was man thus wronged: good Sir Topas, do not think I am mad: they have laid me here in hideous darkness. Fie, thou dishonest Satan! I call thee by the most modest terms; for I am one of those gentle ones that will use the devil himself with courtesy: sayest thou that house is dark? As hell, Sir Topas. Why it hath bay windows transparent as barricadoes, and the clearstores toward the south north are as lustrous as ebony; and yet complainest thou of obstruction? I am not mad, Sir Topas: I say to you, this house is dark. Madman, thou errest: I say, there is no darkness but ignorance; in which thou art more puzzled than the Egyptians in their fog. I say, this house is as dark as ignorance, though ignorance were as dark as hell; and I say, there was never man thus abused. I am no more mad than you are: make the trial of it in any constant question. What is the opinion of Pythagoras concerning wild fowl? That the soul of our grandam might haply inhabit a bird. What thinkest thou of his opinion? I think nobly of the soul, and no way approve his opinion. Fare thee well. Remain thou still in darkness: thou shalt hold the opinion of Pythagoras ere I will allow of thy wits, and fear to kill a woodcock, lest thou dispossess the soul of thy grandam. Fare thee well. Sir Topas, Sir Topas! My most exquisite Sir Topas! Nay, I am for all waters. Thou mightst have done this without thy beard and gown: he sees thee not. To him in thine own voice, and bring me word how thou findest him: I would we were well rid of this knavery. If he may be conveniently delivered, I would he were, for I am now so far in offence with my niece that I cannot pursue with any safety this sport to the upshot. Come by and by to my chamber. [Singing] 'Hey, Robin, jolly Robin, Tell me how thy lady does.' Fool! 'My lady is unkind, perdy.' Fool! 'Alas, why is she so?' Fool, I say! 'She loves another'--Who calls, ha? Good fool, as ever thou wilt deserve well at my hand, help me to a candle, and pen, ink and paper: as I am a gentleman, I will live to be thankful to thee for't. Master Malvolio? Ay, good fool. Alas, sir, how fell you besides your five wits? Fool, there was never a man so notoriously abused: I am as well in my wits, fool, as thou art. But as well? then you are mad indeed, if you be no better in your wits than a fool. They have here propertied me; keep me in darkness, send ministers to me, asses, and do all they can to face me out of my wits. Advise you what you say; the minister is here. Malvolio, Malvolio, thy wits the heavens restore! endeavour thyself to sleep, and leave thy vain bibble babble. Sir Topas! Maintain no words with him, good fellow. Who, I, sir? not I, sir. God be wi' you, good Sir Topas. Merry, amen. I will, sir, I will. Fool, fool, fool, I say! Alas, sir, be patient. What say you sir? I am shent for speaking to you. Good fool, help me to some light and some paper: I tell thee, I am as well in my wits as any man in Illyria. Well-a-day that you were, sir By this hand, I am. Good fool, some ink, paper and light; and convey what I will set down to my lady: it shall advantage thee more than ever the bearing of letter did. I will help you to't. But tell me true, are you not mad indeed? or do you but counterfeit? Believe me, I am not; I tell thee true. Nay, I'll ne'er believe a madman till I see his brains. I will fetch you light and paper and ink. Fool, I'll requite it in the highest degree: I prithee, be gone. [Singing] I am gone, sir, And anon, sir, I'll be with you again, In a trice, Like to the old Vice, Your need to sustain; Who, with dagger of lath, In his rage and his wrath, Cries, ah, ha! to the devil: Like a mad lad, Pare thy nails, dad; Adieu, good man devil.\",\n          \"Who, the Lord Timon? he is my very good friend, and an honourable gentleman. We know him for no less, though we are but strangers to him. But I can tell you one thing, my lord, and which I hear from common rumours: now Lord Timon's happy hours are done and past, and his estate shrinks from him. Fie, no, do not believe it; he cannot want for money. But believe you this, my lord, that, not long ago, one of his men was with the Lord Lucullus to borrow so many talents, nay, urged extremely for't and showed what necessity belonged to't, and yet was denied. How! I tell you, denied, my lord. What a strange case was that! now, before the gods, I am ashamed on't. Denied that honourable man! there was very little honour showed in't. For my own part, I must needs confess, I have received some small kindnesses from him, as money, plate, jewels and such-like trifles, nothing comparing to his; yet, had he mistook him and sent to me, I should ne'er have denied his occasion so many talents. See, by good hap, yonder's my lord; I have sweat to see his honour. My honoured lord,-- Servilius! you are kindly met, sir. Fare thee well: commend me to thy honourable virtuous lord, my very exquisite friend. May it please your honour, my lord hath sent-- Ha! what has he sent? I am so much endeared to that lord; he's ever sending: how shall I thank him, thinkest thou? And what has he sent now? Has only sent his present occasion now, my lord; requesting your lordship to supply his instant use with so many talents. I know his lordship is but merry with me; He cannot want fifty five hundred talents. But in the mean time he wants less, my lord. If his occasion were not virtuous, I should not urge it half so faithfully. Dost thou speak seriously, Servilius? Upon my soul,'tis true, sir. What a wicked beast was I to disfurnish myself against such a good time, when I might ha' shown myself honourable! how unluckily it happened, that I should purchase the day before for a little part, and undo a great deal of honoured! Servilius, now, before the gods, I am not able to do,--the more beast, I say:--I was sending to use Lord Timon myself, these gentlemen can witness! but I would not, for the wealth of Athens, I had done't now. Commend me bountifully to his good lordship; and I hope his honour will conceive the fairest of me, because I have no power to be kind: and tell him this from me, I count it one of my greatest afflictions, say, that I cannot pleasure such an honourable gentleman. Good Servilius, will you befriend me so far, as to use mine own words to him? Yes, sir, I shall. I'll look you out a good turn, Servilius. True as you said, Timon is shrunk indeed; And he that's once denied will hardly speed. Do you observe this, Hostilius? Ay, too well. Why, this is the world's soul; and just of the same piece Is every flatterer's spirit. Who can call him His friend that dips in the same dish? for, in My knowing, Timon has been this lord's father, And kept his credit with his purse, Supported his estate; nay, Timon's money Has paid his men their wages: he ne'er drinks, But Timon's silver treads upon his lip; And yet--O, see the monstrousness of man When he looks out in an ungrateful shape!-- He does deny him, in respect of his, What charitable men afford to beggars. Religion groans at it. For mine own part, I never tasted Timon in my life, Nor came any of his bounties over me, To mark me for his friend; yet, I protest, For his right noble mind, illustrious virtue And honourable carriage, Had his necessity made use of me, I would have put my wealth into donation, And the best half should have return'd to him, So much I love his heart: but, I perceive, Men must learn now with pity to dispense; For policy sits above conscience.\",\n          \"Go you before to Gloucester with these letters. Acquaint my daughter no further with any thing you know than comes from her demand out of the letter. If your diligence be not speedy, I shall be there afore you. I will not sleep, my lord, till I have delivered your letter. If a man's brains were in's heels, were't not in danger of kibes? Ay, boy. Then, I prithee, be merry; thy wit shall ne'er go slip-shod. Ha, ha, ha! Shalt see thy other daughter will use thee kindly; for though she's as like this as a crab's like an apple, yet I can tell what I can tell. Why, what canst thou tell, my boy? She will taste as like this as a crab does to a crab. Thou canst tell why one's nose stands i' the middle on's face? No. Why, to keep one's eyes of either side's nose; that what a man cannot smell out, he may spy into. I did her wrong-- Canst tell how an oyster makes his shell? No. Nor I neither; but I can tell why a snail has a house. Why? Why, to put his head in; not to give it away to his daughters, and leave his horns without a case. I will forget my nature. So kind a father! Be my horses ready? Thy asses are gone about 'em. The reason why the seven stars are no more than seven is a pretty reason. Because they are not eight? Yes, indeed: thou wouldst make a good fool. To take 't again perforce! Monster ingratitude! If thou wert my fool, nuncle, I'ld have thee beaten for being old before thy time. How's that? Thou shouldst not have been old till thou hadst been wise. O, let me not be mad, not mad, sweet heaven Keep me in temper: I would not be mad! How now! are the horses ready? Ready, my lord. Come, boy. She that's a maid now, and laughs at my departure, Shall not be a maid long, unless things be cut shorter.\"\n        ],\n        \"semantic_type\": \"\",\n        \"description\": \"\"\n      }\n    },\n    {\n      \"column\": \"genre\",\n      \"properties\": {\n        \"dtype\": \"category\",\n        \"num_unique_values\": 3,\n        \"samples\": [\n          \"Comedy\",\n          \"Tragedy\",\n          \"History\"\n        ],\n        \"semantic_type\": \"\",\n        \"description\": \"\"\n      }\n    },\n    {\n      \"column\": \"clear text\",\n      \"properties\": {\n        \"dtype\": \"string\",\n        \"num_unique_values\": 753,\n        \"samples\": [\n          \"nay prithee put gown beard make believe thou art sir topas curate quickly call sir toby whilst well put dissemble would first ever dissembled gown tall enough become function well lean enough thought good student said honest man good housekeeper goes fairly say careful man great scholar competitors enter jove bless thee master parson bonos dies sir toby old hermit prague never saw pen ink wittily said niece king gorboduc master parson master parson sir topas ho say peace prison knave counterfeits well good knave within calls sir topas curate comes visit malvolio lunatic sir topas sir topas good sir topas go lady hyperbolical fiend vexest thou man talkest thou nothing ladies well said master parson sir topas never man thus wronged good sir topas think mad laid hideous darkness fie thou dishonest satan call thee modest terms one gentle ones use devil courtesy sayest thou house dark hell sir topas hath bay windows transparent barricadoes clearstores toward south north lustrous ebony yet complainest thou obstruction mad sir topas say house dark madman thou errest say darkness ignorance thou art puzzled egyptians fog say house dark ignorance though ignorance dark hell say never man thus abused mad make trial constant question opinion pythagoras concerning wild fowl soul grandam might haply inhabit bird thinkest thou opinion think nobly soul way approve opinion fare thee well remain thou still darkness thou shalt hold opinion pythagoras ere allow thy wits fear kill woodcock lest thou dispossess soul thy grandam fare thee well sir topas sir topas exquisite sir topas nay waters thou mightst done without thy beard gown sees thee thine voice bring word thou findest would well rid knavery may conveniently delivered would far offence niece pursue safety sport upshot come chamber singing robin jolly robin tell thy lady fool lady unkind perdy fool fool say loves another calls ha good fool ever thou wilt deserve well hand help candle pen ink paper gentleman live thankful thee master malvolio ay good fool alas sir fell besides five wits fool never man notoriously abused well wits fool thou art well mad indeed better wits fool propertied keep darkness send ministers asses face wits advise say minister malvolio malvolio thy wits heavens restore endeavour thyself sleep leave thy vain bibble babble sir topas maintain words good fellow sir sir god wi good sir topas merry amen sir fool fool fool say alas sir patient say sir shent speaking good fool help light paper tell thee well wits man illyria sir hand good fool ink paper light convey set lady shall advantage thee ever bearing letter help tell true mad indeed counterfeit believe tell thee true nay believe madman till see brains fetch light paper ink fool requite highest degree prithee gone singing gone sir anon sir trice like old vice need sustain dagger lath rage wrath cries ah ha devil like mad lad pare thy nails dad adieu good man devil\",\n          \"lord timon good friend honourable gentleman know less though strangers tell one thing lord hear common rumours lord timon happy hours done past estate shrinks fie believe want money believe lord long ago one men lord lucullus borrow many talents nay urged extremely showed necessity belonged yet denied tell denied lord strange case gods ashamed denied honourable man little honour showed part must needs confess received small kindnesses money plate jewels trifles nothing comparing yet mistook sent denied occasion many talents see good hap yonder lord sweat see honour honoured lord servilius kindly met sir fare thee well commend thy honourable virtuous lord exquisite friend may please honour lord hath sent ha sent much endeared lord ever sending shall thank thinkest thou sent sent present occasion lord requesting lordship supply instant use many talents know lordship merry want fifty five hundred talents mean time wants less lord occasion virtuous urge half faithfully dost thou speak seriously servilius upon soul true sir wicked beast disfurnish good time might ha shown honourable unluckily happened purchase day little part undo great deal honoured servilius gods able beast say sending use lord timon gentlemen witness would wealth athens commend bountifully good lordship hope honour conceive fairest power kind tell count one greatest afflictions say pleasure honourable gentleman good servilius befriend far use mine words yes sir shall look good turn servilius true said timon shrunk indeed denied hardly speed observe hostilius ay well world soul piece every flatterer spirit call friend dips dish knowing timon lord father kept credit purse supported estate nay timon money paid men wages drinks timon silver treads upon lip yet see monstrousness man looks ungrateful shape deny respect charitable men afford beggars religion groans mine part never tasted timon life came bounties mark friend yet protest right noble mind illustrious virtue honourable carriage necessity made use would put wealth donation best half return much love heart perceive men must learn pity dispense policy sits conscience\",\n          \"go gloucester letters acquaint daughter thing know comes demand letter diligence speedy shall afore sleep lord till delivered letter man brains heels danger kibes ay boy prithee merry thy wit shall go ha ha ha shalt see thy daughter use thee kindly though like crab like apple yet tell tell canst thou tell boy taste like crab crab thou canst tell one nose stands middle face keep one eyes either side nose man smell may spy wrong canst tell oyster makes shell neither tell snail house put head give away daughters leave horns without case forget nature kind father horses ready thy asses gone reason seven stars seven pretty reason eight yes indeed thou wouldst make good fool take perforce monster ingratitude thou wert fool nuncle thee beaten old thy time thou shouldst old till thou hadst wise let mad mad sweet heaven keep temper would mad horses ready ready lord come boy maid laughs departure shall maid long unless things cut shorter\"\n        ],\n        \"semantic_type\": \"\",\n        \"description\": \"\"\n      }\n    },\n    {\n      \"column\": \"normalized text\",\n      \"properties\": {\n        \"dtype\": \"string\",\n        \"num_unique_values\": 753,\n        \"samples\": [\n          \"nay prithee put gown beard make believe thou art sir topas curate quickly call sir toby whilst well put dissemble would first ever dissemble gown tall enough become function well lean enough thought good student say honest man good housekeeper go fairly say careful man great scholar competitor enter jove bless thee master parson bonos dy sir toby old hermit prague never saw pen ink wittily say niece king gorboduc master parson master parson sir topas ho say peace prison knave counterfeit well good knave within call sir topas curate come visit malvolio lunatic sir topas sir topas good sir topas go lady hyperbolical fiend vexest thou man talkest thou nothing lady well say master parson sir topas never man thus wrong good sir topas think mad laid hideous darkness fie thou dishonest satan call thee modest term one gentle one use devil courtesy sayest thou house dark hell sir topas hath bay window transparent barricadoes clearstores toward south north lustrous ebony yet complainest thou obstruction mad sir topas say house dark madman thou errest say darkness ignorance thou art puzzle egyptian fog say house dark ignorance though ignorance dark hell say never man thus abuse mad make trial constant question opinion pythagoras concern wild fowl soul grandam might haply inhabit bird thinkest thou opinion think nobly soul way approve opinion fare thee well remain thou still darkness thou shalt hold opinion pythagoras ere allow thy wit fear kill woodcock l thou dispossess soul thy grandam fare thee well sir topas sir topas exquisite sir topas nay water thou mightst do without thy beard gown see thee thine voice bring word thou findest would well rid knavery may conveniently deliver would far offence niece pursue safety sport upshot come chamber sing robin jolly robin tell thy lady fool lady unkind perdy fool fool say love another call ha good fool ever thou wilt deserve well hand help candle pen ink paper gentleman live thankful thee master malvolio ay good fool ala sir fell besides five wit fool never man notoriously abuse well wit fool thou art well mad indeed well wit fool propertied keep darkness send minister ass face wit advise say minister malvolio malvolio thy wit heaven restore endeavour thyself sleep leave thy vain bibble babble sir topas maintain word good fellow sir sir god wi good sir topas merry amen sir fool fool fool say ala sir patient say sir shent speak good fool help light paper tell thee well wit man illyria sir hand good fool ink paper light convey set lady shall advantage thee ever bearing letter help tell true mad indeed counterfeit believe tell thee true nay believe madman till see brain fetch light paper ink fool requite high degree prithee go sing go sir anon sir trice like old vice need sustain dagger lath rage wrath cry ah ha devil like mad lad pare thy nail dad adieu good man devil\",\n          \"lord timon good friend honourable gentleman know less though stranger tell one thing lord hear common rumour lord timon happy hour do past estate shrink fie believe want money believe lord long ago one men lord lucullus borrow many talent nay urge extremely show necessity belong yet deny tell deny lord strange case god ashamed deny honourable man little honour show part must need confess receive small kindness money plate jewel trifle nothing compare yet mistook sent deny occasion many talent see good hap yonder lord sweat see honour honour lord servilius kindly met sir fare thee well commend thy honourable virtuous lord exquisite friend may please honour lord hath sent ha sent much endear lord ever send shall thank thinkest thou sent sent present occasion lord request lordship supply instant use many talent know lordship merry want fifty five hundred talent mean time want less lord occasion virtuous urge half faithfully dost thou speak seriously servilius upon soul true sir wicked beast disfurnish good time might ha show honourable unluckily happen purchase day little part undo great deal honour servilius god able beast say send use lord timon gentleman witness would wealth athens commend bountifully good lordship hope honour conceive fairest power kind tell count one great affliction say pleasure honourable gentleman good servilius befriend far use mine word yes sir shall look good turn servilius true say timon shrunk indeed deny hardly speed observe hostilius ay well world soul piece every flatterer spirit call friend dip dish know timon lord father kept credit purse support estate nay timon money paid men wage drink timon silver tread upon lip yet see monstrousness man look ungrateful shape deny respect charitable men afford beggar religion groan mine part never taste timon life come bounty mark friend yet protest right noble mind illustrious virtue honourable carriage necessity make use would put wealth donation best half return much love heart perceive men must learn pity dispense policy sits conscience\",\n          \"go gloucester letter acquaint daughter thing know come demand letter diligence speedy shall afore sleep lord till deliver letter man brain heel danger kibe ay boy prithee merry thy wit shall go ha ha ha shalt see thy daughter use thee kindly though like crab like apple yet tell tell canst thou tell boy taste like crab crab thou canst tell one nose stand middle face keep one eye either side nose man smell may spy wrong canst tell oyster make shell neither tell snail house put head give away daughter leave horn without case forget nature kind father horse ready thy ass go reason seven star seven pretty reason eight yes indeed thou wouldst make good fool take perforce monster ingratitude thou wert fool nuncle thee beaten old thy time thou shouldst old till thou hadst wise let mad mad sweet heaven keep temper would mad horse ready ready lord come boy maid laugh departure shall maid long unless thing cut shorter\"\n        ],\n        \"semantic_type\": \"\",\n        \"description\": \"\"\n      }\n    }\n  ]\n}"
            }
          },
          "metadata": {},
          "execution_count": 10
        }
      ]
    },
    {
      "cell_type": "code",
      "source": [
        "scenes[\"class\"] = scenes[\"genre\"].replace({\n",
        "    \"Comedy\": 0,\n",
        "    \"Tragedy\": 1,\n",
        "    \"History\": 2\n",
        "})"
      ],
      "metadata": {
        "id": "0On2hkn6Jv7j"
      },
      "execution_count": null,
      "outputs": []
    },
    {
      "cell_type": "markdown",
      "source": [
        "# Классификация"
      ],
      "metadata": {
        "id": "KodFILj-Ibpx"
      }
    },
    {
      "cell_type": "markdown",
      "source": [
        "Функция для создания датасета к нейронной сети с помощью векторизаторов"
      ],
      "metadata": {
        "id": "SDOLa33QSroN"
      }
    },
    {
      "cell_type": "code",
      "source": [
        "def create_datasets_with_vectorizer(x, y, vectorizer, random_state=0):\n",
        "  y = np.array(y)\n",
        "  x_train, x_test, y_train, y_test = train_test_split(\n",
        "      x,\n",
        "      y,\n",
        "      test_size=0.2,\n",
        "      stratify=y,\n",
        "      random_state=random_state\n",
        "  )\n",
        "  x_train = vectorizer.fit_transform(x_train).toarray()\n",
        "  x_test = vectorizer.transform(x_test).toarray()\n",
        "  x_train_tensor = torch.tensor(x_train, dtype=torch.float32)\n",
        "  y_train_tensor = torch.tensor(y_train)\n",
        "  x_test_tensor = torch.tensor(x_test, dtype=torch.float32)\n",
        "  y_test_tensor = torch.tensor(y_test)\n",
        "  train_dataset = TensorDataset(x_train_tensor, y_train_tensor)\n",
        "  test_dataset = TensorDataset(x_test_tensor, y_test_tensor)\n",
        "  return (\n",
        "      DataLoader(train_dataset, batch_size=10, shuffle=True),\n",
        "      DataLoader(test_dataset, batch_size=10),\n",
        "      len(vectorizer.vocabulary_) #Размерность словаря, для определения размера входного слоя нейронной сети\n",
        "  )"
      ],
      "metadata": {
        "id": "9WFP-Z18SpCU"
      },
      "execution_count": null,
      "outputs": []
    },
    {
      "cell_type": "markdown",
      "source": [
        "Тестирование модели"
      ],
      "metadata": {
        "id": "a3yz5HHeS8OS"
      }
    },
    {
      "cell_type": "code",
      "source": [
        "def test_model(train, test, model, epochs=10):\n",
        "  device = torch.device(\"cuda\" if torch.cuda.is_available() else \"cpu\")\n",
        "  model.to(device)\n",
        "  optimizer = optim.Adam(model.parameters(), lr=0.001)\n",
        "  criterion = nn.CrossEntropyLoss()\n",
        "  for epoch in range(epochs):\n",
        "    running_loss = 0.0\n",
        "    model.train()\n",
        "    for inputs, labels in train:\n",
        "      inputs = inputs.to(device)\n",
        "      labels = labels.to(device)\n",
        "      optimizer.zero_grad()\n",
        "      outputs = model(inputs)\n",
        "      loss = criterion(outputs, labels)\n",
        "      running_loss += loss.item()\n",
        "      loss.backward()\n",
        "      optimizer.step()\n",
        "    print(f\"Эпоха: {epoch+1}, ошибка на обучении: {running_loss/len(train)}\")\n",
        "    running_loss = 0.0\n",
        "    model.eval()\n",
        "    with torch.no_grad():\n",
        "      for inputs, labels in test:\n",
        "        inputs = inputs.to(device)\n",
        "        labels = labels.to(device)\n",
        "        outputs = model(inputs)\n",
        "        loss = criterion(outputs, labels)\n",
        "        running_loss += loss.item()\n",
        "    print(f\"На валидации: {running_loss/len(test)}\")"
      ],
      "metadata": {
        "id": "MkHZ5rhv1sm8"
      },
      "execution_count": null,
      "outputs": []
    },
    {
      "cell_type": "markdown",
      "source": [
        "Классификатор"
      ],
      "metadata": {
        "id": "O8Fn9GNHTD0_"
      }
    },
    {
      "cell_type": "code",
      "source": [
        "class TextClassifier(nn.Module):\n",
        "  def __init__(self, num_features):\n",
        "    super(TextClassifier, self).__init__()\n",
        "    self.fc1 = nn.Linear(num_features, 50)\n",
        "    self.fc2 = nn.Linear(50, 20)\n",
        "    self.fc3 = nn.Linear(20, 3)\n",
        "    self.relu = nn.ReLU()\n",
        "\n",
        "  def forward(self, x):\n",
        "    x = self.relu(self.fc1(x))\n",
        "    x = self.relu(self.fc2(x))\n",
        "    return self.fc3(x)"
      ],
      "metadata": {
        "id": "kri2wzfETFeO"
      },
      "execution_count": null,
      "outputs": []
    },
    {
      "cell_type": "markdown",
      "source": [
        "Метод \"Мешок слов\" (реализуется в CountVectorizer)"
      ],
      "metadata": {
        "id": "ZeVinFfsTGM7"
      }
    },
    {
      "cell_type": "code",
      "source": [
        "train, test, voc_size = create_datasets_with_vectorizer(scenes['clear text'], scenes[\"class\"], CountVectorizer()) # Тестирование на очищенных данных\n",
        "test_model(train, test, TextClassifier(voc_size))"
      ],
      "metadata": {
        "colab": {
          "base_uri": "https://localhost:8080/"
        },
        "id": "fpYoOOL6FGeF",
        "outputId": "83f55491-75f7-4b93-cb61-b3039b6bc41e"
      },
      "execution_count": null,
      "outputs": [
        {
          "output_type": "stream",
          "name": "stdout",
          "text": [
            "Эпоха: 1, ошибка на обучении: 0.8165904176039774\n",
            "На валидации: 0.43625426094513386\n",
            "Эпоха: 2, ошибка на обучении: 0.22717036471747962\n",
            "На валидации: 0.28501152760600235\n",
            "Эпоха: 3, ошибка на обучении: 0.08261343292493997\n",
            "На валидации: 0.2140275083947909\n",
            "Эпоха: 4, ошибка на обучении: 0.03846898190982378\n",
            "На валидации: 0.1868422016268596\n",
            "Эпоха: 5, ошибка на обучении: 0.019791144676196755\n",
            "На валидации: 0.20462995680281848\n",
            "Эпоха: 6, ошибка на обучении: 0.010084470154666991\n",
            "На валидации: 0.17692400651867501\n",
            "Эпоха: 7, ошибка на обучении: 0.005672789649042152\n",
            "На валидации: 0.17600727558601648\n",
            "Эпоха: 8, ошибка на обучении: 0.0036549304578761994\n",
            "На валидации: 0.18427561467979103\n",
            "Эпоха: 9, ошибка на обучении: 0.002266829033450464\n",
            "На валидации: 0.1824433408328332\n",
            "Эпоха: 10, ошибка на обучении: 0.0015510901260138213\n",
            "На валидации: 0.1891253968133242\n"
          ]
        }
      ]
    },
    {
      "cell_type": "code",
      "source": [
        "train, test, voc_size = create_datasets_with_vectorizer(scenes['normalized text'], scenes[\"class\"], CountVectorizer()) #Тестирование на очищенных и нормализованных данных\n",
        "test_model(train, test, TextClassifier(voc_size))"
      ],
      "metadata": {
        "colab": {
          "base_uri": "https://localhost:8080/"
        },
        "id": "eAdmB1eFKK4a",
        "outputId": "67ef2979-92c0-485e-962d-b1143457de80"
      },
      "execution_count": null,
      "outputs": [
        {
          "output_type": "stream",
          "name": "stdout",
          "text": [
            "Эпоха: 1, ошибка на обучении: 0.8567873801364273\n",
            "На валидации: 0.4899788456968963\n",
            "Эпоха: 2, ошибка на обучении: 0.2649561612137792\n",
            "На валидации: 0.268916033156529\n",
            "Эпоха: 3, ошибка на обучении: 0.08460113951234055\n",
            "На валидации: 0.19033860438503325\n",
            "Эпоха: 4, ошибка на обучении: 0.03313655950430567\n",
            "На валидации: 0.17136915976880118\n",
            "Эпоха: 5, ошибка на обучении: 0.018224676906133115\n",
            "На валидации: 0.17440474980685394\n",
            "Эпоха: 6, ошибка на обучении: 0.009509847466390175\n",
            "На валидации: 0.16267989471089095\n",
            "Эпоха: 7, ошибка на обучении: 0.006676771090049621\n",
            "На валидации: 0.16603367372590583\n",
            "Эпоха: 8, ошибка на обучении: 0.00354915353198551\n",
            "На валидации: 0.16639806274906732\n",
            "Эпоха: 9, ошибка на обучении: 0.002405199351452662\n",
            "На валидации: 0.16809347704111133\n",
            "Эпоха: 10, ошибка на обучении: 0.0017270896328413908\n",
            "На валидации: 0.17160202801096602\n"
          ]
        }
      ]
    },
    {
      "cell_type": "markdown",
      "source": [
        "Метод Tf-Idf (реализуется в TfidfVectorizer)"
      ],
      "metadata": {
        "id": "VK7Cv-DQTY9v"
      }
    },
    {
      "cell_type": "code",
      "source": [
        "train, test, voc_size = create_datasets_with_vectorizer(scenes['clear text'], scenes[\"class\"], TfidfVectorizer()) # Тестирование на очищенных данных\n",
        "test_model(train, test, TextClassifier(voc_size))"
      ],
      "metadata": {
        "colab": {
          "base_uri": "https://localhost:8080/"
        },
        "id": "kz7t-Y_yJXOs",
        "outputId": "7dea203d-dec6-4d73-ede2-240a411b018a"
      },
      "execution_count": null,
      "outputs": [
        {
          "output_type": "stream",
          "name": "stdout",
          "text": [
            "Эпоха: 1, ошибка на обучении: 1.0764370902639921\n",
            "На валидации: 1.0118381939828396\n",
            "Эпоха: 2, ошибка на обучении: 0.81581769028648\n",
            "На валидации: 0.7088958919048309\n",
            "Эпоха: 3, ошибка на обучении: 0.3518829373795478\n",
            "На валидации: 0.37879200000315905\n",
            "Эпоха: 4, ошибка на обучении: 0.08665795819681199\n",
            "На валидации: 0.2514916816726327\n",
            "Эпоха: 5, ошибка на обучении: 0.026300429152782825\n",
            "На валидации: 0.20545006496831775\n",
            "Эпоха: 6, ошибка на обучении: 0.011164844217404846\n",
            "На валидации: 0.1828083759173751\n",
            "Эпоха: 7, ошибка на обучении: 0.005809452415245478\n",
            "На валидации: 0.16789224208332598\n",
            "Эпоха: 8, ошибка на обучении: 0.003354117554826204\n",
            "На валидации: 0.1601485456340015\n",
            "Эпоха: 9, ошибка на обучении: 0.0022749207335615866\n",
            "На валидации: 0.15849663395783864\n",
            "Эпоха: 10, ошибка на обучении: 0.0015795758312766547\n",
            "На валидации: 0.1532257554354146\n"
          ]
        }
      ]
    },
    {
      "cell_type": "code",
      "source": [
        "train, test, voc_size = create_datasets_with_vectorizer(scenes['normalized text'], scenes[\"class\"], TfidfVectorizer()) #Тестирование на очищенных и нормализованных данных\n",
        "test_model(train, test, TextClassifier(voc_size))"
      ],
      "metadata": {
        "colab": {
          "base_uri": "https://localhost:8080/"
        },
        "id": "nBeUQhIdUjQA",
        "outputId": "5abf1338-d70f-4a9f-b33e-cc5c1913203f"
      },
      "execution_count": null,
      "outputs": [
        {
          "output_type": "stream",
          "name": "stdout",
          "text": [
            "Эпоха: 1, ошибка на обучении: 1.0743036660991732\n",
            "На валидации: 1.0173889435827732\n",
            "Эпоха: 2, ошибка на обучении: 0.7927717253810069\n",
            "На валидации: 0.6359752211719751\n",
            "Эпоха: 3, ошибка на обучении: 0.2962732897674451\n",
            "На валидации: 0.3190741706639528\n",
            "Эпоха: 4, ошибка на обучении: 0.07072818422781639\n",
            "На валидации: 0.22782435058616102\n",
            "Эпоха: 5, ошибка на обучении: 0.025403226130321376\n",
            "На валидации: 0.19247735862154514\n",
            "Эпоха: 6, ошибка на обучении: 0.012189384175800398\n",
            "На валидации: 0.16926163781317882\n",
            "Эпоха: 7, ошибка на обучении: 0.006283632704804911\n",
            "На валидации: 0.1552375144965481\n",
            "Эпоха: 8, ошибка на обучении: 0.003936733323393665\n",
            "На валидации: 0.14622782208607532\n",
            "Эпоха: 9, ошибка на обучении: 0.0026888282555460807\n",
            "На валидации: 0.14023541147616925\n",
            "Эпоха: 10, ошибка на обучении: 0.001957085679216524\n",
            "На валидации: 0.1365227314963704\n"
          ]
        }
      ]
    },
    {
      "cell_type": "markdown",
      "source": [
        "Word2Vec"
      ],
      "metadata": {
        "id": "5ERQ4F5AGGFO"
      }
    },
    {
      "cell_type": "markdown",
      "source": [
        "Загрузка предварительно обученной модели"
      ],
      "metadata": {
        "id": "n9wFpiVZncSf"
      }
    },
    {
      "cell_type": "code",
      "source": [
        "w2v = downloader.load('word2vec-google-news-300')"
      ],
      "metadata": {
        "colab": {
          "base_uri": "https://localhost:8080/"
        },
        "id": "Wj08uwW4f-kK",
        "outputId": "07f9299f-a394-4307-e221-f5babd7d75dc"
      },
      "execution_count": null,
      "outputs": [
        {
          "output_type": "stream",
          "name": "stdout",
          "text": [
            "[==================================================] 100.0% 1662.8/1662.8MB downloaded\n"
          ]
        }
      ]
    },
    {
      "cell_type": "markdown",
      "source": [
        "Функция для конвертации предложения в вектор векторов слов"
      ],
      "metadata": {
        "id": "hrLPsT2rngJH"
      }
    },
    {
      "cell_type": "code",
      "source": [
        "def text_to_vectors(text, model, max_len):\n",
        "    words = text.split()\n",
        "    words = words[:max_len] + ['<pad>'] * (max_len - len(words))\n",
        "    vectors = []\n",
        "    for word in words:\n",
        "        if word in model:\n",
        "            vectors.append(model[word])\n",
        "        else:\n",
        "            vectors.append(np.zeros(model.vector_size))\n",
        "    return vectors"
      ],
      "metadata": {
        "id": "aA2xroYujLmD"
      },
      "execution_count": null,
      "outputs": []
    },
    {
      "cell_type": "markdown",
      "source": [
        "Длины текстов"
      ],
      "metadata": {
        "id": "TI_LMZbIALi1"
      }
    },
    {
      "cell_type": "code",
      "source": [
        "scenes['clear text'].apply(lambda x: len(x.split())).median() # Медиана длины текста"
      ],
      "metadata": {
        "colab": {
          "base_uri": "https://localhost:8080/"
        },
        "id": "fS20b1aeAKpr",
        "outputId": "c63781dd-1595-44ac-b347-bc67fac08b90"
      },
      "execution_count": null,
      "outputs": [
        {
          "output_type": "execute_result",
          "data": {
            "text/plain": [
              "404.0"
            ]
          },
          "metadata": {},
          "execution_count": 21
        }
      ]
    },
    {
      "cell_type": "markdown",
      "source": [
        "Создание датасетов"
      ],
      "metadata": {
        "id": "RAkncRz4-rGt"
      }
    },
    {
      "cell_type": "code",
      "source": [
        "def create_datasets_with_word2vec(x, y, model, random_state=0):\n",
        "  y = np.array(y)\n",
        "  x_train, x_test, y_train, y_test = train_test_split(\n",
        "      x,\n",
        "      y,\n",
        "      test_size=0.2,\n",
        "      stratify=y,\n",
        "      random_state=random_state\n",
        "  )\n",
        "  x_train_vec = x_train.apply(lambda x: text_to_vectors(x, model, 404))\n",
        "  x_test_vec = x_test.apply(lambda x: text_to_vectors(x, model, 404))\n",
        "  x_train_tensor = torch.tensor(x_train_vec.tolist(), dtype=torch.float32)\n",
        "  y_train_tensor = torch.tensor(y_train)\n",
        "  x_test_tensor = torch.tensor(x_test_vec.tolist(), dtype=torch.float32)\n",
        "  y_test_tensor = torch.tensor(y_test)\n",
        "  train_dataset = TensorDataset(x_train_tensor, y_train_tensor)\n",
        "  test_dataset = TensorDataset(x_test_tensor, y_test_tensor)\n",
        "  return (\n",
        "      DataLoader(train_dataset, batch_size=10, shuffle=True),\n",
        "      DataLoader(test_dataset, batch_size=10)\n",
        "  )"
      ],
      "metadata": {
        "id": "GsUd0W5L47j9"
      },
      "execution_count": null,
      "outputs": []
    },
    {
      "cell_type": "markdown",
      "source": [
        "LSTM нейронная сеть"
      ],
      "metadata": {
        "id": "CsFLrQqb-v9Z"
      }
    },
    {
      "cell_type": "code",
      "source": [
        "class LSTMClassifier(nn.Module):\n",
        "    def __init__(self, embedding_dim, hidden_dim, output_dim):\n",
        "        super(LSTMClassifier, self).__init__()\n",
        "        self.lstm = nn.LSTM(embedding_dim, hidden_dim, batch_first=True)\n",
        "        self.fc = nn.Linear(hidden_dim, output_dim)\n",
        "\n",
        "    def forward(self, x):\n",
        "        _, (hidden, _) = self.lstm(x)\n",
        "        last_hidden = hidden[-1]\n",
        "        out = self.fc(last_hidden)\n",
        "        return out"
      ],
      "metadata": {
        "id": "tvtLAaB86S6v"
      },
      "execution_count": null,
      "outputs": []
    },
    {
      "cell_type": "markdown",
      "source": [
        "Проверка модели на очищенных данных"
      ],
      "metadata": {
        "id": "1kTtGU9u-1o2"
      }
    },
    {
      "cell_type": "code",
      "source": [
        "train, test = create_datasets_with_word2vec(scenes['clear text'], scenes['class'], w2v)\n",
        "test_model(train, test, LSTMClassifier(300, 50, 3))"
      ],
      "metadata": {
        "colab": {
          "base_uri": "https://localhost:8080/"
        },
        "id": "qs5tvInQ6UB2",
        "outputId": "8a711a12-f6b4-4e61-f2bd-2771431da152"
      },
      "execution_count": null,
      "outputs": [
        {
          "output_type": "stream",
          "name": "stderr",
          "text": [
            "<ipython-input-22-6be05f559b93>:12: UserWarning: Creating a tensor from a list of numpy.ndarrays is extremely slow. Please consider converting the list to a single numpy.ndarray with numpy.array() before converting to a tensor. (Triggered internally at ../torch/csrc/utils/tensor_new.cpp:275.)\n",
            "  x_train_tensor = torch.tensor(x_train_vec.tolist(), dtype=torch.float32)\n"
          ]
        },
        {
          "output_type": "stream",
          "name": "stdout",
          "text": [
            "Эпоха: 1, ошибка на обучении: 1.091269114955527\n",
            "На валидации: 1.0959249883890152\n",
            "Эпоха: 2, ошибка на обучении: 1.0769662700715612\n",
            "На валидации: 1.0984126143157482\n",
            "Эпоха: 3, ошибка на обучении: 1.0502074693070083\n",
            "На валидации: 1.0833654627203941\n",
            "Эпоха: 4, ошибка на обучении: 1.0607337912575143\n",
            "На валидации: 1.0949301347136497\n",
            "Эпоха: 5, ошибка на обучении: 0.9946748389572394\n",
            "На валидации: 1.063386157155037\n",
            "Эпоха: 6, ошибка на обучении: 0.9403776311483539\n",
            "На валидации: 1.0770019888877869\n",
            "Эпоха: 7, ошибка на обучении: 0.905201195693407\n",
            "На валидации: 1.092695988714695\n",
            "Эпоха: 8, ошибка на обучении: 0.8726354866731362\n",
            "На валидации: 1.048977766185999\n",
            "Эпоха: 9, ошибка на обучении: 0.79626599735901\n",
            "На валидации: 1.126905120909214\n",
            "Эпоха: 10, ошибка на обучении: 0.74567405048941\n",
            "На валидации: 1.079479180276394\n"
          ]
        }
      ]
    },
    {
      "cell_type": "code",
      "source": [
        "train, test = create_datasets_with_word2vec(scenes['normalized text'], scenes['class'], w2v)\n",
        "test_model(train, test, LSTMClassifier(300, 50, 3))"
      ],
      "metadata": {
        "id": "TNShTIj0GNta",
        "colab": {
          "base_uri": "https://localhost:8080/"
        },
        "outputId": "f3c6b9f7-3a3a-4828-b11a-956b0aa23bfc"
      },
      "execution_count": null,
      "outputs": [
        {
          "output_type": "stream",
          "name": "stdout",
          "text": [
            "Эпоха: 1, ошибка на обучении: 1.0975328644768136\n",
            "На валидации: 1.0999520272016525\n",
            "Эпоха: 2, ошибка на обучении: 1.0768315469632384\n",
            "На валидации: 1.1014836840331554\n",
            "Эпоха: 3, ошибка на обучении: 1.0546916430113746\n",
            "На валидации: 1.1056623607873917\n",
            "Эпоха: 4, ошибка на обучении: 1.014148112203254\n",
            "На валидации: 1.0796936862170696\n",
            "Эпоха: 5, ошибка на обучении: 0.9591752632719571\n",
            "На валидации: 1.0294394418597221\n",
            "Эпоха: 6, ошибка на обучении: 0.9287761361872564\n",
            "На валидации: 1.0911539234220982\n",
            "Эпоха: 7, ошибка на обучении: 0.8391894336606636\n",
            "На валидации: 1.04669938236475\n",
            "Эпоха: 8, ошибка на обучении: 0.7528208459987015\n",
            "На валидации: 1.1497726142406464\n",
            "Эпоха: 9, ошибка на обучении: 0.7502058734659289\n",
            "На валидации: 1.1384675465524197\n",
            "Эпоха: 10, ошибка на обучении: 0.6612255614800532\n",
            "На валидации: 1.049690816551447\n"
          ]
        }
      ]
    }
  ]
}