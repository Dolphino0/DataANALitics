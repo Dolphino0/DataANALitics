{
  "cells": [
    {
      "cell_type": "code",
      "execution_count": 1,
      "metadata": {
        "id": "ukjTXSOE6yht"
      },
      "outputs": [],
      "source": [
        "import torch as th\n",
        "import numpy as np\n",
        "import random\n",
        "\n",
        "#сделаем инициализацию random seed,\n",
        "#чтобы наши эксперименты были воспроизводимы\n",
        "\n",
        "random.seed(0)\n",
        "np.random.seed(0)\n",
        "th.manual_seed(0)\n",
        "th.cuda.manual_seed(0)\n",
        "th.backends.cudnn.deterministic=True"
      ]
    },
    {
      "cell_type": "code",
      "execution_count": 3,
      "metadata": {
        "colab": {
          "base_uri": "https://localhost:8080/"
        },
        "id": "mnze1dsy759S",
        "outputId": "b411b4ad-1e35-4e4d-c915-1ffe57e24f91"
      },
      "outputs": [
        {
          "name": "stdout",
          "output_type": "stream",
          "text": [
            "Downloading http://yann.lecun.com/exdb/mnist/train-images-idx3-ubyte.gz\n",
            "Downloading http://yann.lecun.com/exdb/mnist/train-images-idx3-ubyte.gz to ./MNIST/raw/train-images-idx3-ubyte.gz\n"
          ]
        },
        {
          "name": "stderr",
          "output_type": "stream",
          "text": [
            "100%|██████████| 9912422/9912422 [00:00<00:00, 375550658.90it/s]\n"
          ]
        },
        {
          "name": "stdout",
          "output_type": "stream",
          "text": [
            "Extracting ./MNIST/raw/train-images-idx3-ubyte.gz to ./MNIST/raw\n",
            "\n",
            "Downloading http://yann.lecun.com/exdb/mnist/train-labels-idx1-ubyte.gz\n",
            "Downloading http://yann.lecun.com/exdb/mnist/train-labels-idx1-ubyte.gz to ./MNIST/raw/train-labels-idx1-ubyte.gz\n"
          ]
        },
        {
          "name": "stderr",
          "output_type": "stream",
          "text": [
            "100%|██████████| 28881/28881 [00:00<00:00, 16057223.47it/s]\n"
          ]
        },
        {
          "name": "stdout",
          "output_type": "stream",
          "text": [
            "Extracting ./MNIST/raw/train-labels-idx1-ubyte.gz to ./MNIST/raw\n",
            "\n",
            "Downloading http://yann.lecun.com/exdb/mnist/t10k-images-idx3-ubyte.gz\n",
            "Downloading http://yann.lecun.com/exdb/mnist/t10k-images-idx3-ubyte.gz to ./MNIST/raw/t10k-images-idx3-ubyte.gz\n"
          ]
        },
        {
          "name": "stderr",
          "output_type": "stream",
          "text": [
            "100%|██████████| 1648877/1648877 [00:00<00:00, 70864625.50it/s]"
          ]
        },
        {
          "name": "stdout",
          "output_type": "stream",
          "text": [
            "Extracting ./MNIST/raw/t10k-images-idx3-ubyte.gz to ./MNIST/raw\n"
          ]
        },
        {
          "name": "stderr",
          "output_type": "stream",
          "text": [
            "\n"
          ]
        },
        {
          "name": "stdout",
          "output_type": "stream",
          "text": [
            "\n",
            "Downloading http://yann.lecun.com/exdb/mnist/t10k-labels-idx1-ubyte.gz\n",
            "Downloading http://yann.lecun.com/exdb/mnist/t10k-labels-idx1-ubyte.gz to ./MNIST/raw/t10k-labels-idx1-ubyte.gz\n"
          ]
        },
        {
          "name": "stderr",
          "output_type": "stream",
          "text": [
            "100%|██████████| 4542/4542 [00:00<00:00, 10589510.15it/s]\n"
          ]
        },
        {
          "name": "stdout",
          "output_type": "stream",
          "text": [
            "Extracting ./MNIST/raw/t10k-labels-idx1-ubyte.gz to ./MNIST/raw\n",
            "\n"
          ]
        }
      ],
      "source": [
        "#скачивание датасета для классификации изображений\n",
        "import torchvision.datasets\n",
        "\n",
        "MNIST_train = torchvision.datasets.MNIST('./', download = True, train = True)\n",
        "MNIST_test = torchvision.datasets.MNIST('./', download = True, train = False)"
      ]
    },
    {
      "cell_type": "code",
      "execution_count": 4,
      "metadata": {
        "colab": {
          "base_uri": "https://localhost:8080/"
        },
        "id": "D17O66_Y8XVd",
        "outputId": "96747caa-81c7-494d-d472-117e5f00363a"
      },
      "outputs": [
        {
          "name": "stderr",
          "output_type": "stream",
          "text": [
            "/usr/local/lib/python3.10/dist-packages/torchvision/datasets/mnist.py:75: UserWarning: train_data has been renamed data\n",
            "  warnings.warn(\"train_data has been renamed data\")\n",
            "/usr/local/lib/python3.10/dist-packages/torchvision/datasets/mnist.py:65: UserWarning: train_labels has been renamed targets\n",
            "  warnings.warn(\"train_labels has been renamed targets\")\n",
            "/usr/local/lib/python3.10/dist-packages/torchvision/datasets/mnist.py:80: UserWarning: test_data has been renamed data\n",
            "  warnings.warn(\"test_data has been renamed data\")\n",
            "/usr/local/lib/python3.10/dist-packages/torchvision/datasets/mnist.py:70: UserWarning: test_labels has been renamed targets\n",
            "  warnings.warn(\"test_labels has been renamed targets\")\n"
          ]
        }
      ],
      "source": [
        "X_train = MNIST_train.train_data\n",
        "y_train = MNIST_train.train_labels\n",
        "X_test = MNIST_test.test_data\n",
        "y_test = MNIST_test.test_labels"
      ]
    },
    {
      "cell_type": "code",
      "execution_count": 5,
      "metadata": {
        "colab": {
          "base_uri": "https://localhost:8080/"
        },
        "id": "APx5M9L_9JmE",
        "outputId": "cbd8a051-ceef-49a9-942b-15898e00ea71"
      },
      "outputs": [
        {
          "data": {
            "text/plain": [
              "(torch.uint8, torch.int64)"
            ]
          },
          "execution_count": 5,
          "metadata": {},
          "output_type": "execute_result"
        }
      ],
      "source": [
        "#посмотрим какой у данных тип\n",
        "X_train.dtype, y_train.dtype"
      ]
    },
    {
      "cell_type": "code",
      "execution_count": 6,
      "metadata": {
        "id": "g2AQpB3t9RL-"
      },
      "outputs": [],
      "source": [
        "#данные имеют тип беззнаковый 8, а таргеты - целые 64 бита\n",
        "#преобразуем сразу данные в веществиенный тип\n",
        "X_train = X_train.float()\n",
        "X_test = X_test.float()"
      ]
    },
    {
      "cell_type": "code",
      "execution_count": 7,
      "metadata": {
        "colab": {
          "base_uri": "https://localhost:8080/"
        },
        "id": "SzTDAw5t9mdb",
        "outputId": "b700fb24-762e-4390-b8ca-4f7d689b9889"
      },
      "outputs": [
        {
          "data": {
            "text/plain": [
              "(torch.Size([60000, 28, 28]), torch.Size([10000, 28, 28]))"
            ]
          },
          "execution_count": 7,
          "metadata": {},
          "output_type": "execute_result"
        }
      ],
      "source": [
        "#посмотрим на расзмерность датасетов\n",
        "X_train.shape, X_test.shape\n",
        "#это очень маленькие картинки, именно поэтому мы можем использовать\n",
        "#полносвязную нейронную сеть для такой задачи, а не сверточные сети"
      ]
    },
    {
      "cell_type": "code",
      "execution_count": 8,
      "metadata": {
        "colab": {
          "base_uri": "https://localhost:8080/",
          "height": 447
        },
        "id": "oUvvAckp-Sn8",
        "outputId": "f311c6de-e2a8-44d3-b8b3-5fbc10c99d98"
      },
      "outputs": [
        {
          "data": {
            "image/png": "[encoded data removed]",
            "text/plain": [
              "<Figure size 640x480 with 1 Axes>"
            ]
          },
          "metadata": {},
          "output_type": "display_data"
        },
        {
          "name": "stdout",
          "output_type": "stream",
          "text": [
            "tensor(3)\n"
          ]
        }
      ],
      "source": [
        "#посмотрим на картинки\n",
        "import matplotlib.pyplot as plt\n",
        "plt.imshow(X_train[7, :, :])\n",
        "plt.show()\n",
        "print(y_train[7])"
      ]
    },
    {
      "cell_type": "code",
      "execution_count": 15,
      "metadata": {
        "colab": {
          "base_uri": "https://localhost:8080/"
        },
        "id": "51sBbxg1AOug",
        "outputId": "81e4d046-8ff4-477f-f63e-b424c7af1211"
      },
      "outputs": [
        {
          "name": "stdout",
          "output_type": "stream",
          "text": [
            "tensor([[0., 0., 0.,  ..., 0., 0., 0.],\n",
            "        [0., 0., 0.,  ..., 0., 0., 0.],\n",
            "        [0., 0., 0.,  ..., 0., 0., 0.],\n",
            "        ...,\n",
            "        [0., 0., 0.,  ..., 0., 0., 0.],\n",
            "        [0., 0., 0.,  ..., 0., 0., 0.],\n",
            "        [0., 0., 0.,  ..., 0., 0., 0.]])\n"
          ]
        },
        {
          "data": {
            "text/plain": [
              "torch.Size([60000, 784])"
            ]
          },
          "execution_count": 15,
          "metadata": {},
          "output_type": "execute_result"
        }
      ],
      "source": [
        "#у нас трезмерный тензор, мы хотим двумерный тензор,\n",
        "#чтобы первая рамерность сохранилась, то есть 60000 картинок\n",
        "#вместо 28 и 28 будет 764 пикселя\n",
        "\n",
        "X_train = X_train.reshape([-1, 28*28])\n",
        "X_test = X_test.reshape([-1, 28*28])\n",
        "\n",
        "print(X_train)\n",
        "X_train.shape"
      ]
    },
    {
      "cell_type": "code",
      "execution_count": 84,
      "metadata": {
        "id": "rBCCAbFXB5X6"
      },
      "outputs": [],
      "source": [
        "#Создание сети\n",
        "# на выходе у нас числа от 0 до 9\n",
        "class MNISTnet(th.nn.Module):\n",
        "  def __init__(self, count_col, n):\n",
        "    super (MNISTnet, self).__init__()\n",
        "    #слои\n",
        "    self.fc1 = th.nn.Linear(count_col, n)\n",
        "    self.act1 = th.nn.Tanh()\n",
        "    self.fc2 = th.nn.Linear(n, n)\n",
        "    self.act2 = th.nn.Tanh()\n",
        "    self.out = th.nn.Linear(n, 10)\n",
        "    self.sm = th.nn.Softmax(dim=1)\n",
        "\n",
        "\n",
        "\n",
        "  def forward(self, x):\n",
        "    x = self.fc1(x)\n",
        "    x = self.act1(x)\n",
        "    x = self.fc2(x)\n",
        "    x = self.act2(x)\n",
        "    x = self.out(x)\n",
        "    return x\n",
        "\n",
        "\n",
        "\n",
        "  def predict(self,x):\n",
        "    with th.no_grad():\n",
        "      x = self.forward(x)\n",
        "      x = self.sm(x)\n",
        "      return x\n"
      ]
    },
    {
      "cell_type": "code",
      "execution_count": 10,
      "metadata": {
        "colab": {
          "base_uri": "https://localhost:8080/"
        },
        "id": "FU0vdZleMF_N",
        "outputId": "eeb5864c-85b3-41b0-e558-7066429c79bb"
      },
      "outputs": [
        {
          "data": {
            "text/plain": [
              "True"
            ]
          },
          "execution_count": 10,
          "metadata": {},
          "output_type": "execute_result"
        }
      ],
      "source": [
        "#есть ли видеокарта?\n",
        "th.cuda.is_available()"
      ]
    },
    {
      "cell_type": "code",
      "execution_count": 12,
      "metadata": {
        "colab": {
          "base_uri": "https://localhost:8080/"
        },
        "id": "4yHSa30oMhXb",
        "outputId": "7d564ac5-e967-4504-a67c-88406c08116d"
      },
      "outputs": [
        {
          "name": "stdout",
          "output_type": "stream",
          "text": [
            "Sat Feb 17 13:43:07 2024       \n",
            "+---------------------------------------------------------------------------------------+\n",
            "| NVIDIA-SMI 535.104.05             Driver Version: 535.104.05   CUDA Version: 12.2     |\n",
            "|-----------------------------------------+----------------------+----------------------+\n",
            "| GPU  Name                 Persistence-M | Bus-Id        Disp.A | Volatile Uncorr. ECC |\n",
            "| Fan  Temp   Perf          Pwr:Usage/Cap |         Memory-Usage | GPU-Util  Compute M. |\n",
            "|                                         |                      |               MIG M. |\n",
            "|=========================================+======================+======================|\n",
            "|   0  Tesla T4                       Off | 00000000:00:04.0 Off |                    0 |\n",
            "| N/A   43C    P8               9W /  70W |      3MiB / 15360MiB |      0%      Default |\n",
            "|                                         |                      |                  N/A |\n",
            "+-----------------------------------------+----------------------+----------------------+\n",
            "                                                                                         \n",
            "+---------------------------------------------------------------------------------------+\n",
            "| Processes:                                                                            |\n",
            "|  GPU   GI   CI        PID   Type   Process name                            GPU Memory |\n",
            "|        ID   ID                                                             Usage      |\n",
            "|=======================================================================================|\n",
            "|  No running processes found                                                           |\n",
            "+---------------------------------------------------------------------------------------+\n"
          ]
        }
      ],
      "source": [
        "!nvidia-smi"
      ]
    },
    {
      "cell_type": "code",
      "execution_count": 79,
      "metadata": {
        "colab": {
          "base_uri": "https://localhost:8080/"
        },
        "id": "iLHagWwaHCEg",
        "outputId": "8d1dc5f6-674c-494e-f80f-9d4119fac67f"
      },
      "outputs": [
        {
          "name": "stdout",
          "output_type": "stream",
          "text": [
            "Epoch: 0, Accuracy: 0.5801166666666666\n",
            "Epoch: 1, Accuracy: 0.7188333333333333\n",
            "Epoch: 2, Accuracy: 0.77065\n",
            "Epoch: 3, Accuracy: 0.7861333333333334\n",
            "Epoch: 4, Accuracy: 0.7881333333333334\n",
            "Epoch: 5, Accuracy: 0.8043166666666667\n",
            "Epoch: 6, Accuracy: 0.82485\n",
            "Epoch: 7, Accuracy: 0.8203833333333334\n",
            "Epoch: 8, Accuracy: 0.8218\n",
            "Epoch: 9, Accuracy: 0.8182333333333334\n",
            "Epoch: 10, Accuracy: 0.81675\n",
            "Epoch: 11, Accuracy: 0.8357666666666667\n",
            "Epoch: 12, Accuracy: 0.83265\n",
            "Epoch: 13, Accuracy: 0.8351833333333334\n",
            "Epoch: 14, Accuracy: 0.8362666666666667\n",
            "Epoch: 15, Accuracy: 0.8362333333333334\n",
            "Epoch: 16, Accuracy: 0.84665\n",
            "Epoch: 17, Accuracy: 0.8468\n",
            "Epoch: 18, Accuracy: 0.84595\n",
            "Epoch: 19, Accuracy: 0.8516666666666667\n",
            "Epoch: 20, Accuracy: 0.8498333333333333\n",
            "Epoch: 21, Accuracy: 0.8533166666666666\n",
            "Epoch: 22, Accuracy: 0.8465\n",
            "Epoch: 23, Accuracy: 0.8478666666666667\n",
            "Epoch: 24, Accuracy: 0.84535\n",
            "Epoch: 25, Accuracy: 0.8371666666666666\n",
            "Epoch: 26, Accuracy: 0.8531166666666666\n",
            "Epoch: 27, Accuracy: 0.8511833333333333\n",
            "Epoch: 28, Accuracy: 0.8448333333333333\n",
            "Epoch: 29, Accuracy: 0.8475833333333334\n",
            "Epoch: 30, Accuracy: 0.8594833333333334\n",
            "Epoch: 31, Accuracy: 0.8497666666666667\n",
            "Epoch: 32, Accuracy: 0.8587666666666667\n",
            "Epoch: 33, Accuracy: 0.85125\n",
            "Epoch: 34, Accuracy: 0.8594833333333334\n",
            "Epoch: 35, Accuracy: 0.85745\n",
            "Epoch: 36, Accuracy: 0.8585166666666667\n",
            "Epoch: 37, Accuracy: 0.8576666666666667\n",
            "Epoch: 38, Accuracy: 0.8564666666666667\n",
            "Epoch: 39, Accuracy: 0.86535\n"
          ]
        }
      ],
      "source": [
        "net = MNISTnet(784, 10)\n",
        "device = th.device('cuda:0' if th.cuda.is_available() else 'cpu')\n",
        "net = net.to(device)\n",
        "loss = th.nn.CrossEntropyLoss()\n",
        "opt = th.optim.Adam(net.parameters(), lr = 0.001)\n",
        "\n",
        "batch_size = 50\n",
        "epochs = 40\n",
        "for epoch in range(epochs):\n",
        "  correct_total = 0\n",
        "  order = np.random.permutation(len(X_train))\n",
        "  for start_index in range (0,len(X_train), batch_size):\n",
        "    opt.zero_grad()\n",
        "    batch_index = order[start_index:start_index+batch_size]\n",
        "    X_batch = X_train[batch_index]\n",
        "    y_batch = y_train[batch_index]\n",
        "    X_batch=X_batch.to(device)\n",
        "    y_batch = y_batch.to(device)\n",
        "    preds = net.forward(X_batch)\n",
        "    loss_val = loss(preds, y_batch)\n",
        "    loss_val.backward()\n",
        "    opt.step()\n",
        "    y_pred = preds.max(1)[1]\n",
        "    correct_total += (y_pred == y_batch).float().sum().item()\n",
        "  epoch_accuracy = correct_total / 60000\n",
        "  print(f\"Epoch: {epoch}, Accuracy: {epoch_accuracy}\")"
      ]
    },
    {
      "cell_type": "markdown",
      "metadata": {
        "id": "hWn93Cu_YiSu"
      },
      "source": [
        "###Задание\n"
      ]
    },
    {
      "cell_type": "markdown",
      "metadata": {
        "id": "_XR5ANxsy3V4"
      },
      "source": [
        "1.   Дописать код после фразы Ваш_Код_Здесь.\n",
        "2.   Поэкспериментировать с гиперпараметрами нейронной сети, чтобы добиться более высокой точности классификации.\n",
        "4.   Построить на одном графике loss для тестовой выборки и для обучающей.\n",
        "5.   Ведет ли увеличение количества эпох (40 эпох -> 200 эпох) к улучшению метрик на валидации?\n",
        "7.   Показать результат работы модели с использованием функции predict (необходимо написать функцию predict).\n"
      ]
    },
    {
      "cell_type": "markdown",
      "metadata": {
        "id": "kztZyh_EiOZH"
      },
      "source": [
        "1 решено выше"
      ]
    },
    {
      "cell_type": "markdown",
      "metadata": {
        "id": "MeIBBu9mlIXk"
      },
      "source": [
        "2 - попробуем увеличить learning rate для Adam"
      ]
    },
    {
      "cell_type": "code",
      "execution_count": 78,
      "metadata": {
        "colab": {
          "base_uri": "https://localhost:8080/"
        },
        "id": "HF_SKCZOsMSf",
        "outputId": "bd3169c8-75fc-4eb3-a529-622fc66303b3"
      },
      "outputs": [
        {
          "name": "stdout",
          "output_type": "stream",
          "text": [
            "Epoch: 0, Accuracy: 0.26261666666666666\n",
            "Epoch: 1, Accuracy: 0.3768\n",
            "Epoch: 2, Accuracy: 0.44371666666666665\n",
            "Epoch: 3, Accuracy: 0.4583333333333333\n",
            "Epoch: 4, Accuracy: 0.4381833333333333\n",
            "Epoch: 5, Accuracy: 0.3596\n",
            "Epoch: 6, Accuracy: 0.45121666666666665\n",
            "Epoch: 7, Accuracy: 0.40723333333333334\n",
            "Epoch: 8, Accuracy: 0.4055666666666667\n",
            "Epoch: 9, Accuracy: 0.45781666666666665\n",
            "Epoch: 10, Accuracy: 0.46718333333333334\n",
            "Epoch: 11, Accuracy: 0.5211166666666667\n",
            "Epoch: 12, Accuracy: 0.49055\n",
            "Epoch: 13, Accuracy: 0.40513333333333335\n",
            "Epoch: 14, Accuracy: 0.5182166666666667\n",
            "Epoch: 15, Accuracy: 0.52435\n",
            "Epoch: 16, Accuracy: 0.46221666666666666\n",
            "Epoch: 17, Accuracy: 0.4354166666666667\n",
            "Epoch: 18, Accuracy: 0.52385\n",
            "Epoch: 19, Accuracy: 0.5147166666666667\n",
            "Epoch: 20, Accuracy: 0.51375\n",
            "Epoch: 21, Accuracy: 0.5032\n",
            "Epoch: 22, Accuracy: 0.47935\n",
            "Epoch: 23, Accuracy: 0.49178333333333335\n",
            "Epoch: 24, Accuracy: 0.50275\n",
            "Epoch: 25, Accuracy: 0.5021833333333333\n",
            "Epoch: 26, Accuracy: 0.47576666666666667\n",
            "Epoch: 27, Accuracy: 0.4548333333333333\n",
            "Epoch: 28, Accuracy: 0.4995833333333333\n",
            "Epoch: 29, Accuracy: 0.5205833333333333\n",
            "Epoch: 30, Accuracy: 0.5007333333333334\n",
            "Epoch: 31, Accuracy: 0.5214166666666666\n",
            "Epoch: 32, Accuracy: 0.5185833333333333\n",
            "Epoch: 33, Accuracy: 0.5360666666666667\n",
            "Epoch: 34, Accuracy: 0.5262\n",
            "Epoch: 35, Accuracy: 0.5245333333333333\n",
            "Epoch: 36, Accuracy: 0.5114\n",
            "Epoch: 37, Accuracy: 0.55925\n",
            "Epoch: 38, Accuracy: 0.5581166666666667\n",
            "Epoch: 39, Accuracy: 0.5429333333333334\n"
          ]
        }
      ],
      "source": [
        "net = MNISTnet(784, 10)\n",
        "device = th.device('cuda:0' if th.cuda.is_available() else 'cpu')\n",
        "net = net.to(device)\n",
        "loss = th.nn.CrossEntropyLoss()\n",
        "opt = th.optim.Adam(net.parameters(), lr = 0.01)\n",
        "\n",
        "batch_size = 50\n",
        "epochs = 40\n",
        "for epoch in range(epochs):\n",
        "  correct_total = 0\n",
        "  order = np.random.permutation(len(X_train))\n",
        "  for start_index in range (0,len(X_train), batch_size):\n",
        "    opt.zero_grad()\n",
        "    batch_index = order[start_index:start_index+batch_size]\n",
        "    X_batch = X_train[batch_index]\n",
        "    y_batch = y_train[batch_index]\n",
        "    X_batch=X_batch.to(device)\n",
        "    y_batch = y_batch.to(device)\n",
        "    preds = net.forward(X_batch)\n",
        "    loss_val = loss(preds, y_batch)\n",
        "    loss_val.backward()\n",
        "    opt.step()\n",
        "    y_pred = preds.max(1)[1]\n",
        "    correct_total += (y_pred == y_batch).float().sum().item()\n",
        "  epoch_accuracy = correct_total / 60000\n",
        "  print(f\"Epoch: {epoch}, Accuracy: {epoch_accuracy}\")"
      ]
    },
    {
      "cell_type": "markdown",
      "metadata": {
        "id": "P89USbzLmKIC"
      },
      "source": [
        "Точность сильно упала при увеличении learning rate.\n",
        "Попробуем уменьшить"
      ]
    },
    {
      "cell_type": "code",
      "execution_count": 80,
      "metadata": {
        "colab": {
          "base_uri": "https://localhost:8080/"
        },
        "id": "vqgzDpdOtyul",
        "outputId": "d890f9f6-317e-4691-96f8-406a1064f937"
      },
      "outputs": [
        {
          "name": "stdout",
          "output_type": "stream",
          "text": [
            "Epoch: 0, Accuracy: 0.6464833333333333\n",
            "Epoch: 1, Accuracy: 0.7818\n",
            "Epoch: 2, Accuracy: 0.8061666666666667\n",
            "Epoch: 3, Accuracy: 0.8168666666666666\n",
            "Epoch: 4, Accuracy: 0.8248333333333333\n",
            "Epoch: 5, Accuracy: 0.8325166666666667\n",
            "Epoch: 6, Accuracy: 0.8397333333333333\n",
            "Epoch: 7, Accuracy: 0.8405\n",
            "Epoch: 8, Accuracy: 0.8401\n",
            "Epoch: 9, Accuracy: 0.84965\n",
            "Epoch: 10, Accuracy: 0.85265\n",
            "Epoch: 11, Accuracy: 0.8568833333333333\n",
            "Epoch: 12, Accuracy: 0.8573833333333334\n",
            "Epoch: 13, Accuracy: 0.8539833333333333\n",
            "Epoch: 14, Accuracy: 0.8590666666666666\n",
            "Epoch: 15, Accuracy: 0.8593166666666666\n",
            "Epoch: 16, Accuracy: 0.8681666666666666\n",
            "Epoch: 17, Accuracy: 0.87065\n",
            "Epoch: 18, Accuracy: 0.8654833333333334\n",
            "Epoch: 19, Accuracy: 0.8673166666666666\n",
            "Epoch: 20, Accuracy: 0.8723\n",
            "Epoch: 21, Accuracy: 0.8648833333333333\n",
            "Epoch: 22, Accuracy: 0.8767833333333334\n",
            "Epoch: 23, Accuracy: 0.87355\n",
            "Epoch: 24, Accuracy: 0.8723666666666666\n",
            "Epoch: 25, Accuracy: 0.8744666666666666\n",
            "Epoch: 26, Accuracy: 0.88035\n",
            "Epoch: 27, Accuracy: 0.8792666666666666\n",
            "Epoch: 28, Accuracy: 0.8781666666666667\n",
            "Epoch: 29, Accuracy: 0.8810333333333333\n",
            "Epoch: 30, Accuracy: 0.8766166666666667\n",
            "Epoch: 31, Accuracy: 0.8787\n",
            "Epoch: 32, Accuracy: 0.8741333333333333\n",
            "Epoch: 33, Accuracy: 0.8810166666666667\n",
            "Epoch: 34, Accuracy: 0.8827333333333334\n",
            "Epoch: 35, Accuracy: 0.8813666666666666\n",
            "Epoch: 36, Accuracy: 0.88155\n",
            "Epoch: 37, Accuracy: 0.8840333333333333\n",
            "Epoch: 38, Accuracy: 0.8817166666666667\n",
            "Epoch: 39, Accuracy: 0.8775666666666667\n"
          ]
        }
      ],
      "source": [
        "net = MNISTnet(784, 10)\n",
        "device = th.device('cuda:0' if th.cuda.is_available() else 'cpu')\n",
        "net = net.to(device)\n",
        "loss = th.nn.CrossEntropyLoss()\n",
        "opt = th.optim.Adam(net.parameters(), lr = 0.0005)\n",
        "\n",
        "batch_size = 50\n",
        "epochs = 40\n",
        "for epoch in range(epochs):\n",
        "  correct_total = 0\n",
        "  order = np.random.permutation(len(X_train))\n",
        "  for start_index in range (0,len(X_train), batch_size):\n",
        "    opt.zero_grad()\n",
        "    batch_index = order[start_index:start_index+batch_size]\n",
        "    X_batch = X_train[batch_index]\n",
        "    y_batch = y_train[batch_index]\n",
        "    X_batch=X_batch.to(device)\n",
        "    y_batch = y_batch.to(device)\n",
        "    preds = net.forward(X_batch)\n",
        "    loss_val = loss(preds, y_batch)\n",
        "    loss_val.backward()\n",
        "    opt.step()\n",
        "    y_pred = preds.max(1)[1]\n",
        "    correct_total += (y_pred == y_batch).float().sum().item()\n",
        "  epoch_accuracy = correct_total / 60000\n",
        "  print(f\"Epoch: {epoch}, Accuracy: {epoch_accuracy}\")"
      ]
    },
    {
      "cell_type": "markdown",
      "metadata": {
        "id": "wT9SMCfdnJwD"
      },
      "source": [
        "Точность сети возросла"
      ]
    },
    {
      "cell_type": "markdown",
      "metadata": {
        "id": "Yqf_thuHnQvh"
      },
      "source": [
        "Попробуем увеличить размер одного пакета в дополнение к уменьшению learning rate"
      ]
    },
    {
      "cell_type": "code",
      "execution_count": 81,
      "metadata": {
        "colab": {
          "base_uri": "https://localhost:8080/"
        },
        "id": "S1lA7S8KuCZn",
        "outputId": "073e6b22-69d1-4cb6-bd35-9133a317875d"
      },
      "outputs": [
        {
          "name": "stdout",
          "output_type": "stream",
          "text": [
            "Epoch: 0, Accuracy: 0.6318\n",
            "Epoch: 1, Accuracy: 0.7813833333333333\n",
            "Epoch: 2, Accuracy: 0.8086833333333333\n",
            "Epoch: 3, Accuracy: 0.8359166666666666\n",
            "Epoch: 4, Accuracy: 0.8376833333333333\n",
            "Epoch: 5, Accuracy: 0.8449166666666666\n",
            "Epoch: 6, Accuracy: 0.8518666666666667\n",
            "Epoch: 7, Accuracy: 0.85185\n",
            "Epoch: 8, Accuracy: 0.8550333333333333\n",
            "Epoch: 9, Accuracy: 0.8577833333333333\n",
            "Epoch: 10, Accuracy: 0.8578833333333333\n",
            "Epoch: 11, Accuracy: 0.865\n",
            "Epoch: 12, Accuracy: 0.8668166666666667\n",
            "Epoch: 13, Accuracy: 0.8654333333333334\n",
            "Epoch: 14, Accuracy: 0.875\n",
            "Epoch: 15, Accuracy: 0.8737166666666667\n",
            "Epoch: 16, Accuracy: 0.8744333333333333\n",
            "Epoch: 17, Accuracy: 0.87805\n",
            "Epoch: 18, Accuracy: 0.87765\n",
            "Epoch: 19, Accuracy: 0.8797333333333334\n",
            "Epoch: 20, Accuracy: 0.8837333333333334\n",
            "Epoch: 21, Accuracy: 0.8806\n",
            "Epoch: 22, Accuracy: 0.8770333333333333\n",
            "Epoch: 23, Accuracy: 0.8830833333333333\n",
            "Epoch: 24, Accuracy: 0.8799833333333333\n",
            "Epoch: 25, Accuracy: 0.8842833333333333\n",
            "Epoch: 26, Accuracy: 0.88525\n",
            "Epoch: 27, Accuracy: 0.8859333333333334\n",
            "Epoch: 28, Accuracy: 0.8856833333333334\n",
            "Epoch: 29, Accuracy: 0.8863333333333333\n",
            "Epoch: 30, Accuracy: 0.88575\n",
            "Epoch: 31, Accuracy: 0.88985\n",
            "Epoch: 32, Accuracy: 0.8916\n",
            "Epoch: 33, Accuracy: 0.8895666666666666\n",
            "Epoch: 34, Accuracy: 0.8903166666666666\n",
            "Epoch: 35, Accuracy: 0.89345\n",
            "Epoch: 36, Accuracy: 0.8935\n",
            "Epoch: 37, Accuracy: 0.8921666666666667\n",
            "Epoch: 38, Accuracy: 0.8961833333333333\n",
            "Epoch: 39, Accuracy: 0.8958333333333334\n"
          ]
        }
      ],
      "source": [
        "net = MNISTnet(784, 10)\n",
        "device = th.device('cuda:0' if th.cuda.is_available() else 'cpu')\n",
        "net = net.to(device)\n",
        "loss = th.nn.CrossEntropyLoss()\n",
        "opt = th.optim.Adam(net.parameters(), lr = 0.0005)\n",
        "\n",
        "batch_size = 100\n",
        "epochs = 40\n",
        "for epoch in range(epochs):\n",
        "  correct_total = 0\n",
        "  order = np.random.permutation(len(X_train))\n",
        "  for start_index in range (0,len(X_train), batch_size):\n",
        "    opt.zero_grad()\n",
        "    batch_index = order[start_index:start_index+batch_size]\n",
        "    X_batch = X_train[batch_index]\n",
        "    y_batch = y_train[batch_index]\n",
        "    X_batch=X_batch.to(device)\n",
        "    y_batch = y_batch.to(device)\n",
        "    preds = net.forward(X_batch)\n",
        "    loss_val = loss(preds, y_batch)\n",
        "    loss_val.backward()\n",
        "    opt.step()\n",
        "    y_pred = preds.max(1)[1]\n",
        "    correct_total += (y_pred == y_batch).float().sum().item()\n",
        "  epoch_accuracy = correct_total / 60000\n",
        "  print(f\"Epoch: {epoch}, Accuracy: {epoch_accuracy}\")"
      ]
    },
    {
      "cell_type": "markdown",
      "metadata": {
        "id": "QbC9YZBcuvkg"
      },
      "source": [
        "Точность близка к предыдущему примеру"
      ]
    },
    {
      "cell_type": "markdown",
      "metadata": {
        "id": "KQKMz5K9u71z"
      },
      "source": [
        "3 - loss на обучающей и тестовой выборке"
      ]
    },
    {
      "cell_type": "code",
      "execution_count": 93,
      "metadata": {
        "colab": {
          "base_uri": "https://localhost:8080/",
          "height": 449
        },
        "id": "qzj2CkU6uvMb",
        "outputId": "d12486c8-b1b8-456f-a38b-6b0ad1961c6c"
      },
      "outputs": [
        {
          "data": {
            "image/png": "[encoded data removed]",
            "text/plain": [
              "<Figure size 640x480 with 1 Axes>"
            ]
          },
          "metadata": {},
          "output_type": "display_data"
        }
      ],
      "source": [
        "net = MNISTnet(784, 10)\n",
        "device = th.device('cuda:0' if th.cuda.is_available() else 'cpu')\n",
        "net = net.to(device)\n",
        "loss = th.nn.CrossEntropyLoss()\n",
        "opt = th.optim.Adam(net.parameters(), lr = 0.0005)\n",
        "train_list = []\n",
        "test_list = []\n",
        "batch_size = 50\n",
        "epochs = 40\n",
        "for epoch in range(epochs):\n",
        "  order = np.random.permutation(len(X_train))\n",
        "  for start_index in range (0,len(X_train), batch_size):\n",
        "    opt.zero_grad()\n",
        "    batch_index = order[start_index:start_index+batch_size]\n",
        "    X_batch = X_train[batch_index]\n",
        "    y_batch = y_train[batch_index]\n",
        "    X_batch=X_batch.to(device)\n",
        "    y_batch = y_batch.to(device)\n",
        "    preds = net.forward(X_batch)\n",
        "    loss_val = loss(preds, y_batch)\n",
        "    loss_val.backward()\n",
        "    opt.step()\n",
        "  with th.no_grad():\n",
        "    x = X_train.to(device)\n",
        "    y = y_train.to(device)\n",
        "    preds = net.forward(x)\n",
        "    loss_val = loss(preds, y)\n",
        "    train_list.append(loss_val.item())\n",
        "\n",
        "    x = X_test.to(device)\n",
        "    y = y_test.to(device)\n",
        "    preds = net.forward(x)\n",
        "    loss_val = loss(preds, y)\n",
        "    test_list.append(loss_val.item())\n",
        "\n",
        "plt.plot(train_list, label=\"Обучающая выборка\")\n",
        "plt.plot(test_list, label=\"Тестовая выборка\")\n",
        "plt.xlabel('Номер эпохи')\n",
        "plt.ylabel('Loss')\n",
        "plt.legend()\n",
        "plt.show()\n",
        "\n"
      ]
    },
    {
      "cell_type": "markdown",
      "metadata": {
        "id": "ez69VYN93qrw"
      },
      "source": [
        "4 - Увеличим количество эпох"
      ]
    },
    {
      "cell_type": "markdown",
      "metadata": {
        "id": "bmOLjFrw7QqU"
      },
      "source": [
        "Попробуем улучшить работу сети с learning rate 0.01 путём добавления большего количества эпох"
      ]
    },
    {
      "cell_type": "code",
      "execution_count": 96,
      "metadata": {
        "colab": {
          "base_uri": "https://localhost:8080/"
        },
        "id": "fR3vOD2f4O_J",
        "outputId": "a5f8a28f-07aa-4494-b516-189cd446cf12"
      },
      "outputs": [
        {
          "name": "stdout",
          "output_type": "stream",
          "text": [
            "Epoch: 0, Accuracy: 0.23148333333333335\n",
            "Epoch: 1, Accuracy: 0.30035\n",
            "Epoch: 2, Accuracy: 0.34126666666666666\n",
            "Epoch: 3, Accuracy: 0.33775\n",
            "Epoch: 4, Accuracy: 0.3713\n",
            "Epoch: 5, Accuracy: 0.38556666666666667\n",
            "Epoch: 6, Accuracy: 0.38948333333333335\n",
            "Epoch: 7, Accuracy: 0.4014333333333333\n",
            "Epoch: 8, Accuracy: 0.39458333333333334\n",
            "Epoch: 9, Accuracy: 0.41378333333333334\n",
            "Epoch: 10, Accuracy: 0.41125\n",
            "Epoch: 11, Accuracy: 0.386\n",
            "Epoch: 12, Accuracy: 0.4027\n",
            "Epoch: 13, Accuracy: 0.41028333333333333\n",
            "Epoch: 14, Accuracy: 0.42895\n",
            "Epoch: 15, Accuracy: 0.4400833333333333\n",
            "Epoch: 16, Accuracy: 0.4422333333333333\n",
            "Epoch: 17, Accuracy: 0.4570666666666667\n",
            "Epoch: 18, Accuracy: 0.45331666666666665\n",
            "Epoch: 19, Accuracy: 0.44325\n",
            "Epoch: 20, Accuracy: 0.4552\n",
            "Epoch: 21, Accuracy: 0.47558333333333336\n",
            "Epoch: 22, Accuracy: 0.4343666666666667\n",
            "Epoch: 23, Accuracy: 0.3980166666666667\n",
            "Epoch: 24, Accuracy: 0.3760833333333333\n",
            "Epoch: 25, Accuracy: 0.4341\n",
            "Epoch: 26, Accuracy: 0.50395\n",
            "Epoch: 27, Accuracy: 0.4977666666666667\n",
            "Epoch: 28, Accuracy: 0.50805\n",
            "Epoch: 29, Accuracy: 0.50095\n",
            "Epoch: 30, Accuracy: 0.48643333333333333\n",
            "Epoch: 31, Accuracy: 0.5039666666666667\n",
            "Epoch: 32, Accuracy: 0.4958\n",
            "Epoch: 33, Accuracy: 0.47915\n",
            "Epoch: 34, Accuracy: 0.4807166666666667\n",
            "Epoch: 35, Accuracy: 0.4653\n",
            "Epoch: 36, Accuracy: 0.4393166666666667\n",
            "Epoch: 37, Accuracy: 0.45105\n",
            "Epoch: 38, Accuracy: 0.4877\n",
            "Epoch: 39, Accuracy: 0.4393\n",
            "Epoch: 40, Accuracy: 0.4412333333333333\n",
            "Epoch: 41, Accuracy: 0.45545\n",
            "Epoch: 42, Accuracy: 0.46365\n",
            "Epoch: 43, Accuracy: 0.47263333333333335\n",
            "Epoch: 44, Accuracy: 0.47333333333333333\n",
            "Epoch: 45, Accuracy: 0.47105\n",
            "Epoch: 46, Accuracy: 0.48933333333333334\n",
            "Epoch: 47, Accuracy: 0.49016666666666664\n",
            "Epoch: 48, Accuracy: 0.4956333333333333\n",
            "Epoch: 49, Accuracy: 0.49401666666666666\n",
            "Epoch: 50, Accuracy: 0.49073333333333335\n",
            "Epoch: 51, Accuracy: 0.4921333333333333\n",
            "Epoch: 52, Accuracy: 0.48685\n",
            "Epoch: 53, Accuracy: 0.4837\n",
            "Epoch: 54, Accuracy: 0.49243333333333333\n",
            "Epoch: 55, Accuracy: 0.4805833333333333\n",
            "Epoch: 56, Accuracy: 0.4736166666666667\n",
            "Epoch: 57, Accuracy: 0.4610166666666667\n",
            "Epoch: 58, Accuracy: 0.4679833333333333\n",
            "Epoch: 59, Accuracy: 0.44645\n",
            "Epoch: 60, Accuracy: 0.4600166666666667\n",
            "Epoch: 61, Accuracy: 0.43651666666666666\n",
            "Epoch: 62, Accuracy: 0.4233\n",
            "Epoch: 63, Accuracy: 0.4348166666666667\n",
            "Epoch: 64, Accuracy: 0.4275833333333333\n",
            "Epoch: 65, Accuracy: 0.41508333333333336\n",
            "Epoch: 66, Accuracy: 0.44895\n",
            "Epoch: 67, Accuracy: 0.4870833333333333\n",
            "Epoch: 68, Accuracy: 0.48318333333333335\n",
            "Epoch: 69, Accuracy: 0.48078333333333334\n",
            "Epoch: 70, Accuracy: 0.4726\n",
            "Epoch: 71, Accuracy: 0.47003333333333336\n",
            "Epoch: 72, Accuracy: 0.4572833333333333\n",
            "Epoch: 73, Accuracy: 0.45226666666666665\n",
            "Epoch: 74, Accuracy: 0.46613333333333334\n",
            "Epoch: 75, Accuracy: 0.48951666666666666\n",
            "Epoch: 76, Accuracy: 0.4733\n",
            "Epoch: 77, Accuracy: 0.4825333333333333\n",
            "Epoch: 78, Accuracy: 0.4958\n",
            "Epoch: 79, Accuracy: 0.47665\n",
            "Epoch: 80, Accuracy: 0.46081666666666665\n",
            "Epoch: 81, Accuracy: 0.4411333333333333\n",
            "Epoch: 82, Accuracy: 0.408\n",
            "Epoch: 83, Accuracy: 0.3877333333333333\n",
            "Epoch: 84, Accuracy: 0.38075\n",
            "Epoch: 85, Accuracy: 0.38875\n",
            "Epoch: 86, Accuracy: 0.34531666666666666\n",
            "Epoch: 87, Accuracy: 0.3624833333333333\n",
            "Epoch: 88, Accuracy: 0.37138333333333334\n",
            "Epoch: 89, Accuracy: 0.36823333333333336\n",
            "Epoch: 90, Accuracy: 0.37365\n",
            "Epoch: 91, Accuracy: 0.37638333333333335\n",
            "Epoch: 92, Accuracy: 0.4130333333333333\n",
            "Epoch: 93, Accuracy: 0.4147666666666667\n",
            "Epoch: 94, Accuracy: 0.4266333333333333\n",
            "Epoch: 95, Accuracy: 0.4231\n",
            "Epoch: 96, Accuracy: 0.43401666666666666\n",
            "Epoch: 97, Accuracy: 0.43166666666666664\n",
            "Epoch: 98, Accuracy: 0.43206666666666665\n",
            "Epoch: 99, Accuracy: 0.4345833333333333\n",
            "Epoch: 100, Accuracy: 0.43223333333333336\n",
            "Epoch: 101, Accuracy: 0.4326833333333333\n",
            "Epoch: 102, Accuracy: 0.4333666666666667\n",
            "Epoch: 103, Accuracy: 0.40213333333333334\n",
            "Epoch: 104, Accuracy: 0.3932333333333333\n",
            "Epoch: 105, Accuracy: 0.37415\n",
            "Epoch: 106, Accuracy: 0.3837\n",
            "Epoch: 107, Accuracy: 0.36993333333333334\n",
            "Epoch: 108, Accuracy: 0.38613333333333333\n",
            "Epoch: 109, Accuracy: 0.42161666666666664\n",
            "Epoch: 110, Accuracy: 0.4175333333333333\n",
            "Epoch: 111, Accuracy: 0.4259833333333333\n",
            "Epoch: 112, Accuracy: 0.4219333333333333\n",
            "Epoch: 113, Accuracy: 0.41915\n",
            "Epoch: 114, Accuracy: 0.39243333333333336\n",
            "Epoch: 115, Accuracy: 0.40453333333333336\n",
            "Epoch: 116, Accuracy: 0.41358333333333336\n",
            "Epoch: 117, Accuracy: 0.41285\n",
            "Epoch: 118, Accuracy: 0.40223333333333333\n",
            "Epoch: 119, Accuracy: 0.40365\n",
            "Epoch: 120, Accuracy: 0.3724166666666667\n",
            "Epoch: 121, Accuracy: 0.3769166666666667\n",
            "Epoch: 122, Accuracy: 0.3872333333333333\n",
            "Epoch: 123, Accuracy: 0.4033\n",
            "Epoch: 124, Accuracy: 0.40521666666666667\n",
            "Epoch: 125, Accuracy: 0.4049333333333333\n",
            "Epoch: 126, Accuracy: 0.3904666666666667\n",
            "Epoch: 127, Accuracy: 0.44321666666666665\n",
            "Epoch: 128, Accuracy: 0.4384166666666667\n",
            "Epoch: 129, Accuracy: 0.43505\n",
            "Epoch: 130, Accuracy: 0.4333166666666667\n",
            "Epoch: 131, Accuracy: 0.4317666666666667\n",
            "Epoch: 132, Accuracy: 0.43501666666666666\n",
            "Epoch: 133, Accuracy: 0.43265\n",
            "Epoch: 134, Accuracy: 0.43778333333333336\n",
            "Epoch: 135, Accuracy: 0.43025\n",
            "Epoch: 136, Accuracy: 0.4187\n",
            "Epoch: 137, Accuracy: 0.40678333333333333\n",
            "Epoch: 138, Accuracy: 0.38775\n",
            "Epoch: 139, Accuracy: 0.4251\n",
            "Epoch: 140, Accuracy: 0.4426833333333333\n",
            "Epoch: 141, Accuracy: 0.43883333333333335\n",
            "Epoch: 142, Accuracy: 0.43843333333333334\n",
            "Epoch: 143, Accuracy: 0.4166\n",
            "Epoch: 144, Accuracy: 0.4109833333333333\n",
            "Epoch: 145, Accuracy: 0.4258\n",
            "Epoch: 146, Accuracy: 0.43866666666666665\n",
            "Epoch: 147, Accuracy: 0.43565\n",
            "Epoch: 148, Accuracy: 0.42933333333333334\n",
            "Epoch: 149, Accuracy: 0.42896666666666666\n",
            "Epoch: 150, Accuracy: 0.43821666666666664\n",
            "Epoch: 151, Accuracy: 0.43093333333333333\n",
            "Epoch: 152, Accuracy: 0.43615\n",
            "Epoch: 153, Accuracy: 0.4328166666666667\n",
            "Epoch: 154, Accuracy: 0.4364\n",
            "Epoch: 155, Accuracy: 0.43385\n",
            "Epoch: 156, Accuracy: 0.43356666666666666\n",
            "Epoch: 157, Accuracy: 0.42943333333333333\n",
            "Epoch: 158, Accuracy: 0.4182\n",
            "Epoch: 159, Accuracy: 0.4166\n",
            "Epoch: 160, Accuracy: 0.4335833333333333\n",
            "Epoch: 161, Accuracy: 0.43498333333333333\n",
            "Epoch: 162, Accuracy: 0.43315\n",
            "Epoch: 163, Accuracy: 0.4374166666666667\n",
            "Epoch: 164, Accuracy: 0.4311833333333333\n",
            "Epoch: 165, Accuracy: 0.41528333333333334\n",
            "Epoch: 166, Accuracy: 0.4070166666666667\n",
            "Epoch: 167, Accuracy: 0.39245\n",
            "Epoch: 168, Accuracy: 0.3826833333333333\n",
            "Epoch: 169, Accuracy: 0.3847333333333333\n",
            "Epoch: 170, Accuracy: 0.3901\n",
            "Epoch: 171, Accuracy: 0.3438333333333333\n",
            "Epoch: 172, Accuracy: 0.32975\n",
            "Epoch: 173, Accuracy: 0.33916666666666667\n",
            "Epoch: 174, Accuracy: 0.3353333333333333\n",
            "Epoch: 175, Accuracy: 0.3574333333333333\n",
            "Epoch: 176, Accuracy: 0.3637166666666667\n",
            "Epoch: 177, Accuracy: 0.38121666666666665\n",
            "Epoch: 178, Accuracy: 0.40458333333333335\n",
            "Epoch: 179, Accuracy: 0.42628333333333335\n",
            "Epoch: 180, Accuracy: 0.4285333333333333\n",
            "Epoch: 181, Accuracy: 0.42091666666666666\n",
            "Epoch: 182, Accuracy: 0.39268333333333333\n",
            "Epoch: 183, Accuracy: 0.3910166666666667\n",
            "Epoch: 184, Accuracy: 0.40175\n",
            "Epoch: 185, Accuracy: 0.3959\n",
            "Epoch: 186, Accuracy: 0.42496666666666666\n",
            "Epoch: 187, Accuracy: 0.43505\n",
            "Epoch: 188, Accuracy: 0.4334\n",
            "Epoch: 189, Accuracy: 0.43445\n",
            "Epoch: 190, Accuracy: 0.42175\n",
            "Epoch: 191, Accuracy: 0.4172666666666667\n",
            "Epoch: 192, Accuracy: 0.41705\n",
            "Epoch: 193, Accuracy: 0.41513333333333335\n",
            "Epoch: 194, Accuracy: 0.39321666666666666\n",
            "Epoch: 196, Accuracy: 0.3774666666666667\n",
            "Epoch: 197, Accuracy: 0.39948333333333336\n",
            "Epoch: 198, Accuracy: 0.4028\n",
            "Epoch: 199, Accuracy: 0.414\n"
          ]
        }
      ],
      "source": [
        "net = MNISTnet(784, 10)\n",
        "device = th.device('cuda:0' if th.cuda.is_available() else 'cpu')\n",
        "net = net.to(device)\n",
        "loss = th.nn.CrossEntropyLoss()\n",
        "opt = th.optim.Adam(net.parameters(), lr = 0.01)\n",
        "\n",
        "batch_size = 50\n",
        "epochs = 200\n",
        "for epoch in range(epochs):\n",
        "  correct_total = 0\n",
        "  order = np.random.permutation(len(X_train))\n",
        "  for start_index in range (0,len(X_train), batch_size):\n",
        "    opt.zero_grad()\n",
        "    batch_index = order[start_index:start_index+batch_size]\n",
        "    X_batch = X_train[batch_index]\n",
        "    y_batch = y_train[batch_index]\n",
        "    X_batch=X_batch.to(device)\n",
        "    y_batch = y_batch.to(device)\n",
        "    preds = net.forward(X_batch)\n",
        "    loss_val = loss(preds, y_batch)\n",
        "    loss_val.backward()\n",
        "    opt.step()\n",
        "    y_pred = preds.max(1)[1]\n",
        "    correct_total += (y_pred == y_batch).float().sum().item()\n",
        "  epoch_accuracy = correct_total / 60000\n",
        "  print(f\"Epoch: {epoch}, Accuracy: {epoch_accuracy}\")"
      ]
    },
    {
      "cell_type": "markdown",
      "metadata": {
        "id": "kAeFD4PV8PSA"
      },
      "source": [
        "Увеличение количества эпох не улучшило модель"
      ]
    },
    {
      "cell_type": "markdown",
      "metadata": {
        "id": "ocsK4-4u8TJx"
      },
      "source": [
        "5 - Тест метода predict"
      ]
    },
    {
      "cell_type": "code",
      "execution_count": 97,
      "metadata": {
        "id": "SLdbHyxs8Vdq"
      },
      "outputs": [],
      "source": [
        "net = MNISTnet(784, 10)\n",
        "device = th.device('cuda:0' if th.cuda.is_available() else 'cpu')\n",
        "net = net.to(device)\n",
        "loss = th.nn.CrossEntropyLoss()\n",
        "opt = th.optim.Adam(net.parameters(), lr = 0.0005)\n",
        "\n",
        "batch_size = 50\n",
        "epochs = 40\n",
        "for epoch in range(epochs):\n",
        "  order = np.random.permutation(len(X_train))\n",
        "  for start_index in range (0,len(X_train), batch_size):\n",
        "    opt.zero_grad()\n",
        "    batch_index = order[start_index:start_index+batch_size]\n",
        "    X_batch = X_train[batch_index]\n",
        "    y_batch = y_train[batch_index]\n",
        "    X_batch=X_batch.to(device)\n",
        "    y_batch = y_batch.to(device)\n",
        "    preds = net.forward(X_batch)\n",
        "    loss_val = loss(preds, y_batch)\n",
        "    loss_val.backward()\n",
        "    opt.step()\n",
        "preds = net.predict(X_test.to(device))"
      ]
    },
    {
      "cell_type": "code",
      "execution_count": 106,
      "metadata": {
        "colab": {
          "base_uri": "https://localhost:8080/"
        },
        "id": "Bnc8J3hb9Wco",
        "outputId": "64cc3b4a-5345-41b6-bd4d-04b92ec0f75a"
      },
      "outputs": [
        {
          "data": {
            "text/plain": [
              "tensor([7, 2, 1,  ..., 4, 5, 6], device='cuda:0')"
            ]
          },
          "execution_count": 106,
          "metadata": {},
          "output_type": "execute_result"
        }
      ],
      "source": [
        "y_pred = preds.max(1)[1]\n",
        "y_pred"
      ]
    },
    {
      "cell_type": "code",
      "execution_count": 109,
      "metadata": {
        "id": "66P42sTc-SIK"
      },
      "outputs": [],
      "source": [
        "from sklearn.metrics import confusion_matrix"
      ]
    },
    {
      "cell_type": "code",
      "execution_count": 114,
      "metadata": {
        "colab": {
          "base_uri": "https://localhost:8080/"
        },
        "id": "718eXTMe-Xe2",
        "outputId": "951d6729-e055-4a06-a922-687b791911cb"
      },
      "outputs": [
        {
          "name": "stdout",
          "output_type": "stream",
          "text": [
            "[[ 932    0    2    1    0    5   30    5    5    0]\n",
            " [   0 1091    7    7    1    2    7    4   16    0]\n",
            " [  26    4  905   30   13    1   26    9   17    1]\n",
            " [   8    5   21  879    1   54    5   14   18    5]\n",
            " [   0    3    7    1  902    1   24    5   12   27]\n",
            " [  21    4    1   54    6  705   19    3   72    7]\n",
            " [   7    2    4    1   23    7  896    0   17    1]\n",
            " [   2    8   29   21    9    2    2  938    0   17]\n",
            " [  14    5   14   17    5    8   27    6  875    3]\n",
            " [   7    3    1   12  105    9    6   35   13  818]]\n"
          ]
        }
      ],
      "source": [
        "print(confusion_matrix(y_test, y_pred.cpu()))"
      ]
    }
  ],
  "metadata": {
    "accelerator": "GPU",
    "colab": {
      "gpuType": "T4",
      "provenance": []
    },
    "kernelspec": {
      "display_name": "Python 3",
      "name": "python3"
    },
    "language_info": {
      "codemirror_mode": {
        "name": "ipython",
        "version": 3
      },
      "file_extension": ".py",
      "mimetype": "text/x-python",
      "name": "python",
      "nbconvert_exporter": "python",
      "pygments_lexer": "ipython3",
      "version": "3.11.5"
    }
  },
  "nbformat": 4,
  "nbformat_minor": 0
}
